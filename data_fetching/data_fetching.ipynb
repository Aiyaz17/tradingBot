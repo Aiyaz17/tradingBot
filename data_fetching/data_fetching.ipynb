{
 "cells": [
  {
   "cell_type": "code",
   "execution_count": 14,
   "metadata": {},
   "outputs": [
    {
     "data": {
      "text/plain": [
       "True"
      ]
     },
     "execution_count": 14,
     "metadata": {},
     "output_type": "execute_result"
    }
   ],
   "source": [
    "# !pip install dotenv fyers_api\n",
    "from fyers_api import fyersModel\n",
    "from fyers_api import accessToken\n",
    "import pandas as pd\n",
    "import datetime as dt\n",
    "import os\n",
    "from dotenv import load_dotenv\n",
    "load_dotenv(\"../env.env\")\n",
    "# print(\"running\")"
   ]
  },
  {
   "cell_type": "code",
   "execution_count": 15,
   "metadata": {},
   "outputs": [],
   "source": [
    "client_id=os.environ.get('API_CLIENT_ID')\n",
    "secret_key=os.environ.get('API_SECRET_KEY')\n",
    "redirect_uri=os.environ.get('API_REDIRECT_URL')\n"
   ]
  },
  {
   "cell_type": "code",
   "execution_count": 16,
   "metadata": {},
   "outputs": [],
   "source": [
    "session=accessToken.SessionModel(client_id=client_id,\n",
    "secret_key=secret_key,redirect_uri=redirect_uri, \n",
    "response_type='code', grant_type='authorization_code')"
   ]
  },
  {
   "cell_type": "code",
   "execution_count": 17,
   "metadata": {},
   "outputs": [
    {
     "name": "stdout",
     "output_type": "stream",
     "text": [
      "https://api.fyers.in/api/v2/generate-authcode?client_id=QW4JS7GAG2-100&redirect_uri=https%3A%2F%2F127.0.0.1%3A5000%2Flogin&response_type=code&state=None\n"
     ]
    }
   ],
   "source": [
    "auth_code_provider = session.generate_authcode()\n",
    "print(auth_code_provider)"
   ]
  },
  {
   "cell_type": "code",
   "execution_count": 18,
   "metadata": {},
   "outputs": [],
   "source": [
    "auth_code=str(input(\"Enter the auth_code: \"))"
   ]
  },
  {
   "cell_type": "code",
   "execution_count": 19,
   "metadata": {},
   "outputs": [
    {
     "ename": "KeyError",
     "evalue": "'access_token'",
     "output_type": "error",
     "traceback": [
      "\u001b[1;31m---------------------------------------------------------------------------\u001b[0m",
      "\u001b[1;31mKeyError\u001b[0m                                  Traceback (most recent call last)",
      "\u001b[1;32md:\\PersonalPlayground\\tradingBot\\data_fetching\\data_fetching.ipynb Cell 6\u001b[0m in \u001b[0;36m<cell line: 3>\u001b[1;34m()\u001b[0m\n\u001b[0;32m      <a href='vscode-notebook-cell:/d%3A/PersonalPlayground/tradingBot/data_fetching/data_fetching.ipynb#ch0000005?line=0'>1</a>\u001b[0m session\u001b[39m.\u001b[39mset_token(auth_code)\n\u001b[0;32m      <a href='vscode-notebook-cell:/d%3A/PersonalPlayground/tradingBot/data_fetching/data_fetching.ipynb#ch0000005?line=1'>2</a>\u001b[0m response \u001b[39m=\u001b[39m session\u001b[39m.\u001b[39mgenerate_token()\n\u001b[1;32m----> <a href='vscode-notebook-cell:/d%3A/PersonalPlayground/tradingBot/data_fetching/data_fetching.ipynb#ch0000005?line=2'>3</a>\u001b[0m access_token \u001b[39m=\u001b[39m response[\u001b[39m\"\u001b[39;49m\u001b[39maccess_token\u001b[39;49m\u001b[39m\"\u001b[39;49m]\n\u001b[0;32m      <a href='vscode-notebook-cell:/d%3A/PersonalPlayground/tradingBot/data_fetching/data_fetching.ipynb#ch0000005?line=3'>4</a>\u001b[0m \u001b[39mif\u001b[39;00m(access_token \u001b[39mis\u001b[39;00m \u001b[39mNone\u001b[39;00m):\n\u001b[0;32m      <a href='vscode-notebook-cell:/d%3A/PersonalPlayground/tradingBot/data_fetching/data_fetching.ipynb#ch0000005?line=4'>5</a>\u001b[0m     \u001b[39mprint\u001b[39m(\u001b[39m\"\u001b[39m\u001b[39mAccess token is not generated\u001b[39m\u001b[39m\"\u001b[39m)\n",
      "\u001b[1;31mKeyError\u001b[0m: 'access_token'"
     ]
    }
   ],
   "source": [
    "session.set_token(auth_code)\n",
    "response = session.generate_token()\n",
    "access_token = response[\"access_token\"]\n",
    "if(access_token is None):\n",
    "    print(\"Access token is not generated\")\n",
    "else:\n",
    "    print(\"Access token is generated\")\n",
    "    "
   ]
  },
  {
   "cell_type": "code",
   "execution_count": null,
   "metadata": {},
   "outputs": [],
   "source": [
    "fyers = fyersModel.FyersModel(client_id=client_id, token=access_token)\n",
    "is_async = True"
   ]
  },
  {
   "cell_type": "code",
   "execution_count": null,
   "metadata": {},
   "outputs": [
    {
     "data": {
      "text/plain": [
       "{'s': 'ok',\n",
       " 'code': 200,\n",
       " 'message': '',\n",
       " 'data': {'fy_id': 'XA15265',\n",
       "  'name': 'AIYAZ ANWAR QURESHI',\n",
       "  'image': None,\n",
       "  'display_name': None,\n",
       "  'pin_change_date': '31-07-2022 00:55:39',\n",
       "  'email_id': 'qureshi.aiyaz123@gmail.com',\n",
       "  'pwd_change_date': '31-07-2022 00:54:23',\n",
       "  'PAN': '---------',\n",
       "  'pwd_to_expire': 149}}"
      ]
     },
     "execution_count": 9,
     "metadata": {},
     "output_type": "execute_result"
    }
   ],
   "source": [
    "fyers.get_profile()"
   ]
  },
  {
   "cell_type": "code",
   "execution_count": null,
   "metadata": {},
   "outputs": [],
   "source": [
    "# Getting Data\n",
    "def dynamicDataFetching(startDate,endDate,symbol):\n",
    "    # Creating a dataframe to store the data\n",
    "    df = pd.DataFrame(columns=[\"date\",\"open\",\"high\",\"low\",\"close\",\"volume\"])\n",
    "    today = dt.date.today()\n",
    "    range_from=startDate\n",
    "    while(range_from<=today):\n",
    "    # Check whether the upcoming endDate is lesser than today if we add 99D or else make it today\n",
    "        if((range_from + dt.timedelta(days=99))<today):\n",
    "            range_to = range_from + dt.timedelta(days=99)\n",
    "        else:\n",
    "            range_to = today\n",
    "\n",
    "        # Api call \n",
    "        data = {\"symbol\":symbol,\"resolution\":\"5\",\"date_format\":\"1\",\"range_from\":range_from,\"range_to\":range_to,\"cont_flag\":\"1\"}\n",
    "        res = fyers.history(data)\n",
    "        res = res[\"candles\"]\n",
    "        \n",
    "        # Converting the data into pandas dataframe \n",
    "        tempDf = pd.DataFrame(columns=[\"date\",\"open\",\"high\",\"low\",\"close\",\"volume\"])\n",
    "        for i in range(len(res)):\n",
    "             tempDf.loc[i]= [\n",
    "                res[i][0],\n",
    "                res[i][1],\n",
    "                res[i][2],\n",
    "                res[i][3],\n",
    "                res[i][4],\n",
    "                res[i][5]]\n",
    "       \n",
    "        # Appending the data to the main dataframe\n",
    "        df = pd.concat([df,tempDf])\n",
    "\n",
    "        # Updating the range_from to last date of last api call\n",
    "        range_from=range_to+dt.timedelta(days=1)\n",
    "    return df"
   ]
  },
  {
   "cell_type": "code",
   "execution_count": null,
   "metadata": {},
   "outputs": [
    {
     "name": "stdout",
     "output_type": "stream",
     "text": [
      "date      object\n",
      "open      object\n",
      "high      object\n",
      "low       object\n",
      "close     object\n",
      "volume    object\n",
      "dtype: object\n",
      "                date     open     high      low    close    volume\n",
      "count   2.026000e+04  20260.0  20260.0  20260.0  20260.0   20260.0\n",
      "unique  2.026000e+04   4147.0   4046.0   4067.0   4162.0   19893.0\n",
      "top     1.625111e+09    432.0    432.5    432.5    432.0  246975.0\n",
      "freq    1.000000e+00     25.0     35.0     33.0     26.0       3.0\n"
     ]
    }
   ],
   "source": [
    "startDate = dt.date(2021,7,1)\n",
    "endDate = dt.date.today()\n",
    "symbol=\"NSE:TATAMOTORS-EQ\"\n",
    "\n",
    "df = dynamicDataFetching(startDate,endDate,symbol)\n",
    "print(df.dtypes)\n",
    "print(df.describe())"
   ]
  },
  {
   "cell_type": "code",
   "execution_count": 20,
   "metadata": {},
   "outputs": [
    {
     "name": "stdout",
     "output_type": "stream",
     "text": [
      "           date    open    high     low  close     volume\n",
      "0  1625111100.0   341.5   343.2   341.2  342.1  1814940.0\n",
      "1  1625111400.0  341.95  344.95   341.6  344.4  1647938.0\n",
      "2  1625111700.0   344.3   345.2   343.6  343.9  1009616.0\n",
      "3  1625112000.0   344.0   344.7   343.6  343.8   587118.0\n",
      "4  1625112300.0   343.7   344.2  343.65  344.0   290437.0\n"
     ]
    }
   ],
   "source": [
    "print(df.head())"
   ]
  },
  {
   "cell_type": "code",
   "execution_count": 21,
   "metadata": {},
   "outputs": [
    {
     "name": "stdout",
     "output_type": "stream",
     "text": [
      "                             open    high     low  close     volume\n",
      "date                                                               \n",
      "2021-07-01 09:15:00+05:30  341.50  343.20  341.20  342.1  1814940.0\n",
      "2021-07-01 09:20:00+05:30  341.95  344.95  341.60  344.4  1647938.0\n",
      "2021-07-01 09:25:00+05:30  344.30  345.20  343.60  343.9  1009616.0\n",
      "2021-07-01 09:30:00+05:30  344.00  344.70  343.60  343.8   587118.0\n",
      "2021-07-01 09:35:00+05:30  343.70  344.20  343.65  344.0   290437.0\n",
      "\n",
      "Data types :\n",
      " open      float64\n",
      "high      float64\n",
      "low       float64\n",
      "close     float64\n",
      "volume    float64\n",
      "dtype: object\n"
     ]
    }
   ],
   "source": [
    "# Converting everything to playable format + changing the time zone from utc to ist\n",
    "df[\"date\"]= pd.to_datetime(df[\"date\"],unit='s',utc=True).dt.tz_convert('Asia/Kolkata')\n",
    "df.set_index(\"date\",inplace=True)\n",
    "df[\"open\"]=df[\"open\"].astype(float)\n",
    "df[\"high\"]=df[\"high\"].astype(float)\n",
    "df[\"low\"]=df[\"low\"].astype(float)\n",
    "df[\"close\"]=df[\"close\"].astype(float)\n",
    "df[\"volume\"]=df[\"volume\"].astype(float)\n",
    "\n",
    "print(df.head())\n",
    "print(\"\\nData types :\\n\" , df.dtypes)"
   ]
  },
  {
   "cell_type": "code",
   "execution_count": 22,
   "metadata": {},
   "outputs": [],
   "source": [
    "# Export df to csv\n",
    "fileName = \"TataMotors.csv\"\n",
    "# df.to_csv(f\"../data/{fileName}\")"
   ]
  }
 ],
 "metadata": {
  "kernelspec": {
   "display_name": "Python 3 (ipykernel)",
   "language": "python",
   "name": "python3"
  },
  "language_info": {
   "codemirror_mode": {
    "name": "ipython",
    "version": 3
   },
   "file_extension": ".py",
   "mimetype": "text/x-python",
   "name": "python",
   "nbconvert_exporter": "python",
   "pygments_lexer": "ipython3",
   "version": "3.9.12"
  },
  "vscode": {
   "interpreter": {
    "hash": "26de051ba29f2982a8de78e945f0abaf191376122a1563185a90213a26c5da77"
   }
  }
 },
 "nbformat": 4,
 "nbformat_minor": 2
}
