{
 "cells": [
  {
   "cell_type": "code",
   "execution_count": null,
   "metadata": {},
   "outputs": [],
   "source": [
    "# !pip install dotenv fyers_api\n",
    "from fyers_api import fyersModel\n",
    "from fyers_api import accessToken\n",
    "import pandas as pd\n",
    "import datetime as dt\n",
    "import os\n",
    "from dotenv import load_dotenv\n",
    "load_dotenv(\"../.env\")\n",
    "# print(\"running\")"
   ]
  },
  {
   "cell_type": "code",
   "execution_count": null,
   "metadata": {},
   "outputs": [],
   "source": [
    "client_id=os.environ.get('API_CLIENT_ID')\n",
    "secret_key=os.environ.get('API_SECRET_KEY')\n",
    "redirect_uri=os.environ.get('API_REDIRECT_URL')\n"
   ]
  },
  {
   "cell_type": "code",
   "execution_count": null,
   "metadata": {},
   "outputs": [],
   "source": [
    "session=accessToken.SessionModel(client_id=client_id,\n",
    "secret_key=secret_key,redirect_uri=redirect_uri, \n",
    "response_type='code', grant_type='authorization_code')"
   ]
  },
  {
   "cell_type": "code",
   "execution_count": null,
   "metadata": {},
   "outputs": [],
   "source": [
    "auth_code_provider = session.generate_authcode()\n",
    "print(auth_code_provider)"
   ]
  },
  {
   "cell_type": "code",
   "execution_count": null,
   "metadata": {},
   "outputs": [],
   "source": [
    "auth_code=str(input(\"Enter the auth_code: \"))"
   ]
  },
  {
   "cell_type": "code",
   "execution_count": null,
   "metadata": {},
   "outputs": [],
   "source": [
    "session.set_token(auth_code)\n",
    "response = session.generate_token()\n",
    "access_token = response[\"access_token\"]\n",
    "if(access_token is None):\n",
    "    print(\"Access token is not generated\")\n",
    "else:\n",
    "    print(\"Access token is generated\")\n",
    "    "
   ]
  },
  {
   "cell_type": "code",
   "execution_count": null,
   "metadata": {},
   "outputs": [],
   "source": [
    "fyers = fyersModel.FyersModel(client_id=client_id, token=access_token)\n",
    "is_async = True"
   ]
  },
  {
   "cell_type": "code",
   "execution_count": null,
   "metadata": {},
   "outputs": [],
   "source": [
    "fyers.get_profile()"
   ]
  },
  {
   "cell_type": "code",
   "execution_count": null,
   "metadata": {},
   "outputs": [],
   "source": [
    "# Getting Data\n",
    "def dynamicDataFetching(startDate,endDate,symbol):\n",
    "    # Creating a dataframe to store the data\n",
    "    df = pd.DataFrame(columns=[\"date\",\"open\",\"high\",\"low\",\"close\",\"volume\"])\n",
    "    today = dt.date.today()\n",
    "    range_from=startDate\n",
    "    while(range_from<=today):\n",
    "    # Check whether the upcoming endDate is lesser than today if we add 99D or else make it today\n",
    "        if((range_from + dt.timedelta(days=99))<today):\n",
    "            range_to = range_from + dt.timedelta(days=99)\n",
    "        else:\n",
    "            range_to = today\n",
    "\n",
    "        # Api call \n",
    "        data = {\"symbol\":symbol,\"resolution\":\"5\",\"date_format\":\"1\",\"range_from\":range_from,\"range_to\":range_to,\"cont_flag\":\"1\"}\n",
    "        res = fyers.history(data)\n",
    "        res = res[\"candles\"]\n",
    "        \n",
    "        # Converting the data into pandas dataframe \n",
    "        tempDf = pd.DataFrame(columns=[\"date\",\"open\",\"high\",\"low\",\"close\",\"volume\"])\n",
    "        for i in range(len(res)):\n",
    "             tempDf.loc[i]= [\n",
    "                res[i][0],\n",
    "                res[i][1],\n",
    "                res[i][2],\n",
    "                res[i][3],\n",
    "                res[i][4],\n",
    "                res[i][5]]\n",
    "       \n",
    "        # Appending the data to the main dataframe\n",
    "        df = pd.concat([df,tempDf])\n",
    "\n",
    "        # Updating the range_from to last date of last api call\n",
    "        range_from=range_to+dt.timedelta(days=1)\n",
    "    return df"
   ]
  },
  {
   "cell_type": "code",
   "execution_count": null,
   "metadata": {},
   "outputs": [],
   "source": [
    "startDate = dt.date(2021,7,1)\n",
    "endDate = dt.date.today()\n",
    "symbol=\"NSE:SBIN-EQ\"\n",
    "\n",
    "df = dynamicDataFetching(startDate,endDate,symbol)\n",
    "print(df.dtypes)\n",
    "print(df.describe())"
   ]
  },
  {
   "cell_type": "code",
   "execution_count": null,
   "metadata": {},
   "outputs": [],
   "source": [
    "print(df.head())"
   ]
  },
  {
   "cell_type": "code",
   "execution_count": null,
   "metadata": {},
   "outputs": [],
   "source": [
    "# Converting everything to playable format + changing the time zone from utc to ist\n",
    "df[\"date\"]= pd.to_datetime(df[\"date\"],unit='s',utc=True).dt.tz_convert('Asia/Kolkata')\n",
    "df.set_index(\"date\",inplace=True)\n",
    "df[\"open\"]=df[\"open\"].astype(float)\n",
    "df[\"high\"]=df[\"high\"].astype(float)\n",
    "df[\"low\"]=df[\"low\"].astype(float)\n",
    "df[\"close\"]=df[\"close\"].astype(float)\n",
    "df[\"volume\"]=df[\"volume\"].astype(float)\n",
    "\n",
    "print(df.head())\n",
    "print(\"\\nData types :\\n\" , df.dtypes)"
   ]
  },
  {
   "cell_type": "code",
   "execution_count": null,
   "metadata": {},
   "outputs": [],
   "source": [
    "# Export df to csv\n",
    "fileName = \"SBI.csv\"\n",
    "# df.to_csv(f\"../data/{fileName}\")``"
   ]
  }
 ],
 "metadata": {
  "kernelspec": {
   "display_name": "Python 3.10.0 64-bit",
   "language": "python",
   "name": "python3"
  },
  "language_info": {
   "codemirror_mode": {
    "name": "ipython",
    "version": 3
   },
   "file_extension": ".py",
   "mimetype": "text/x-python",
   "name": "python",
   "nbconvert_exporter": "python",
   "pygments_lexer": "ipython3",
   "version": "3.10.0"
  },
  "vscode": {
   "interpreter": {
    "hash": "369f2c481f4da34e4445cda3fffd2e751bd1c4d706f27375911949ba6bb62e1c"
   }
  }
 },
 "nbformat": 4,
 "nbformat_minor": 2
}
