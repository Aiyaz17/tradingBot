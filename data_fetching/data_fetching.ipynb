{
 "cells": [
  {
   "cell_type": "code",
   "execution_count": 7,
   "metadata": {},
   "outputs": [
    {
     "name": "stdout",
     "output_type": "stream",
     "text": [
      "https://api.fyers.in/api/v2/generate-authcode?client_id=QW4JS7GAG2-100&redirect_uri=https%3A%2F%2F127.0.0.1%3A5000%2Flogin&response_type=code&state=None\n",
      "Access token is generated\n"
     ]
    }
   ],
   "source": [
    "%run ../fyers_auth.ipynb\n",
    "import sys\n",
    "sys.path.append('../shared')\n",
    "from data_fetching_func import dynamicDataFetching,clean_data \n",
    "import pandas as pd\n",
    "import datetime as dt"
   ]
  },
  {
   "cell_type": "code",
   "execution_count": 11,
   "metadata": {},
   "outputs": [
    {
     "name": "stdout",
     "output_type": "stream",
     "text": [
      "date      object\n",
      "open      object\n",
      "high      object\n",
      "low       object\n",
      "close     object\n",
      "volume    object\n",
      "dtype: object\n",
      "                date     open     high      low    close     volume\n",
      "count   2.351100e+04  23511.0  23511.0  23511.0  23511.0    23511.0\n",
      "unique  2.351100e+04   8106.0   7714.0   7895.0   8159.0    23237.0\n",
      "top     1.546314e+09    107.0    107.2    107.1    107.1  1402990.0\n",
      "freq    1.000000e+00     34.0     35.0     29.0     31.0        3.0\n"
     ]
    }
   ],
   "source": [
    "startDate = dt.date(2019,1,1)\n",
    "endDate = dt.date.today()\n",
    "symbol=\"NSE:TATASTEEL-EQ\"\n",
    "resolution = \"15\"\n",
    "df = dynamicDataFetching(fyers,startDate,endDate,symbol,resolution)\n",
    "print(df.dtypes)\n",
    "print(df.describe())"
   ]
  },
  {
   "cell_type": "code",
   "execution_count": 12,
   "metadata": {},
   "outputs": [],
   "source": [
    "clean_data(df)"
   ]
  },
  {
   "cell_type": "code",
   "execution_count": 13,
   "metadata": {},
   "outputs": [
    {
     "data": {
      "text/plain": [
       "(23511, 5)"
      ]
     },
     "execution_count": 13,
     "metadata": {},
     "output_type": "execute_result"
    }
   ],
   "source": [
    "# print(df.head())\n",
    "df.shape"
   ]
  },
  {
   "cell_type": "code",
   "execution_count": 14,
   "metadata": {},
   "outputs": [],
   "source": [
    "# Export df to csv\n",
    "# fileName = \"3Y_tatasteel_15min.csv\"\n",
    "# df.to_csv(f\"../data/{fileName}\")"
   ]
  }
 ],
 "metadata": {
  "kernelspec": {
   "display_name": "Python 3 (ipykernel)",
   "language": "python",
   "name": "python3"
  },
  "language_info": {
   "codemirror_mode": {
    "name": "ipython",
    "version": 3
   },
   "file_extension": ".py",
   "mimetype": "text/x-python",
   "name": "python",
   "nbconvert_exporter": "python",
   "pygments_lexer": "ipython3",
   "version": "3.10.2"
  },
  "vscode": {
   "interpreter": {
    "hash": "26de051ba29f2982a8de78e945f0abaf191376122a1563185a90213a26c5da77"
   }
  }
 },
 "nbformat": 4,
 "nbformat_minor": 2
}
