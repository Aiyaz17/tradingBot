{
 "cells": [
  {
   "cell_type": "code",
   "execution_count": 8,
   "metadata": {},
   "outputs": [
    {
     "data": {
      "text/plain": [
       "True"
      ]
     },
     "execution_count": 8,
     "metadata": {},
     "output_type": "execute_result"
    }
   ],
   "source": [
    "from fyers_api import fyersModel\n",
    "from fyers_api import accessToken\n",
    "import pandas as pd\n",
    "import datetime as dt\n",
    "import os\n",
    "from dotenv import load_dotenv\n",
    "load_dotenv(\"../.env\")\n"
   ]
  },
  {
   "cell_type": "code",
   "execution_count": 10,
   "metadata": {},
   "outputs": [],
   "source": [
    "client_id=os.environ.get('API_CLIENT_ID')\n",
    "secret_key=os.environ.get('API_SECRET_KEY')\n",
    "redirect_uri=os.environ.get('API_REDIRECT_URL')\n"
   ]
  },
  {
   "cell_type": "code",
   "execution_count": 11,
   "metadata": {},
   "outputs": [],
   "source": [
    "session=accessToken.SessionModel(client_id=client_id,\n",
    "secret_key=secret_key,redirect_uri=redirect_uri, \n",
    "response_type='code', grant_type='authorization_code')"
   ]
  },
  {
   "cell_type": "code",
   "execution_count": 12,
   "metadata": {},
   "outputs": [
    {
     "name": "stdout",
     "output_type": "stream",
     "text": [
      "https://api.fyers.in/api/v2/generate-authcode?client_id=QW4JS7GAG2-100&redirect_uri=https%3A%2F%2F127.0.0.1%3A5000%2Flogin&response_type=code&state=None\n"
     ]
    }
   ],
   "source": [
    "auth_code_provider = session.generate_authcode()\n",
    "print(auth_code_provider)"
   ]
  },
  {
   "cell_type": "code",
   "execution_count": 13,
   "metadata": {},
   "outputs": [],
   "source": [
    "auth_code=str(input(\"Enter the auth_code: \"))"
   ]
  },
  {
   "cell_type": "code",
   "execution_count": 14,
   "metadata": {},
   "outputs": [
    {
     "name": "stdout",
     "output_type": "stream",
     "text": [
      "Access token is generated\n"
     ]
    }
   ],
   "source": [
    "session.set_token(auth_code)\n",
    "response = session.generate_token()\n",
    "access_token = response[\"access_token\"]\n",
    "if(access_token is None):\n",
    "    print(\"Access token is not generated\")\n",
    "else:\n",
    "    print(\"Access token is generated\")\n",
    "    "
   ]
  },
  {
   "cell_type": "code",
   "execution_count": 15,
   "metadata": {},
   "outputs": [],
   "source": [
    "fyers = fyersModel.FyersModel(client_id=client_id, token=access_token)\n",
    "is_async = True"
   ]
  },
  {
   "cell_type": "code",
   "execution_count": 16,
   "metadata": {},
   "outputs": [
    {
     "data": {
      "text/plain": [
       "{'s': 'ok',\n",
       " 'code': 200,\n",
       " 'message': '',\n",
       " 'data': {'fy_id': 'XA15265',\n",
       "  'name': 'AIYAZ ANWAR QURESHI',\n",
       "  'image': None,\n",
       "  'display_name': None,\n",
       "  'pin_change_date': '21-12-2021 14:00:15',\n",
       "  'email_id': 'qureshi.aiyaz123@gmail.com',\n",
       "  'pwd_change_date': '18-08-2021 13:45:28;41',\n",
       "  'PAN': '---------',\n",
       "  'pwd_to_expire': 90}}"
      ]
     },
     "execution_count": 16,
     "metadata": {},
     "output_type": "execute_result"
    }
   ],
   "source": [
    "fyers.get_profile()"
   ]
  },
  {
   "cell_type": "code",
   "execution_count": 17,
   "metadata": {},
   "outputs": [],
   "source": [
    "# Getting Data\n",
    "def dynamicDataFetching(startDate,endDate,symbol):\n",
    "    # Creating a dataframe to store the data\n",
    "    df = pd.DataFrame(columns=[\"date\",\"open\",\"high\",\"low\",\"close\",\"volume\"])\n",
    "    today = dt.date.today()\n",
    "    range_from=startDate\n",
    "    while(range_from<=today):\n",
    "    # Check whether the upcoming endDate is lesser than today if we add 99D or else make it today\n",
    "        if((range_from + dt.timedelta(days=99))<today):\n",
    "            range_to = range_from + dt.timedelta(days=99)\n",
    "        else:\n",
    "            range_to = today\n",
    "\n",
    "        # Api call \n",
    "        data = {\"symbol\":symbol,\"resolution\":\"5\",\"date_format\":\"1\",\"range_from\":range_from,\"range_to\":range_to,\"cont_flag\":\"1\"}\n",
    "        res = fyers.history(data)\n",
    "        res = res[\"candles\"]\n",
    "        \n",
    "        # Converting the data into pandas dataframe \n",
    "        tempDf = pd.DataFrame(columns=[\"date\",\"open\",\"high\",\"low\",\"close\",\"volume\"])\n",
    "        for i in range(len(res)):\n",
    "             tempDf.loc[i]=[res[i][0],res[i][1],res[i][2],res[i][3],res[i][4],res[i][5]]\n",
    "       \n",
    "        # Appending the data to the main dataframe\n",
    "        df = pd.concat([df,tempDf])\n",
    "\n",
    "        # Updating the range_from to last date of last api call\n",
    "        range_from=range_to+dt.timedelta(days=1)\n",
    "    return df"
   ]
  },
  {
   "cell_type": "code",
   "execution_count": 19,
   "metadata": {},
   "outputs": [
    {
     "name": "stdout",
     "output_type": "stream",
     "text": [
      "date      object\n",
      "open      object\n",
      "high      object\n",
      "low       object\n",
      "close     object\n",
      "volume    object\n",
      "dtype: object\n"
     ]
    }
   ],
   "source": [
    "startDate = dt.date(2021,7,1)\n",
    "endDate = dt.date.today()\n",
    "symbol=\"NSE:TATASTEEL-EQ\"\n",
    "\n",
    "df = dynamicDataFetching(startDate,endDate,symbol)\n",
    "print(df.dtypes)\n",
    "print(df.describe())"
   ]
  },
  {
   "cell_type": "code",
   "execution_count": 20,
   "metadata": {},
   "outputs": [
    {
     "name": "stdout",
     "output_type": "stream",
     "text": [
      "                       open    high     low   close     volume\n",
      "date                                                          \n",
      "2021-07-01 03:45:00  117.19  117.19  115.65  116.31  4809510.0\n",
      "2021-07-01 03:50:00  116.35  117.20  116.26  116.97  2844120.0\n",
      "2021-07-01 03:55:00  116.93  117.16  116.70  117.03  1459550.0\n",
      "2021-07-01 04:00:00  117.04  117.45  116.85  117.40  1677160.0\n",
      "2021-07-01 04:05:00  117.38  117.68  117.32  117.36  2206000.0\n",
      "\n",
      "Data types :\n",
      " open      float64\n",
      "high      float64\n",
      "low       float64\n",
      "close     float64\n",
      "volume    float64\n",
      "dtype: object\n"
     ]
    }
   ],
   "source": [
    "# Converting everything to playable format\n",
    "df[\"date\"]= pd.to_datetime(df[\"date\"],unit='s')\n",
    "df.set_index(\"date\",inplace=True)\n",
    "df[\"open\"]=df[\"open\"].astype(float)\n",
    "df[\"high\"]=df[\"high\"].astype(float)\n",
    "df[\"low\"]=df[\"low\"].astype(float)\n",
    "df[\"close\"]=df[\"close\"].astype(float)\n",
    "df[\"volume\"]=df[\"volume\"].astype(float)\n",
    " \n",
    "print(df.head())\n",
    "print(\"\\nData types :\\n\" , df.dtypes)"
   ]
  },
  {
   "cell_type": "code",
   "execution_count": null,
   "metadata": {},
   "outputs": [],
   "source": [
    "# Export df to csv\n",
    "fileName = \"TataSteel.csv\"\n",
    "df.to_csv(fileName)"
   ]
  }
 ],
 "metadata": {
  "kernelspec": {
   "display_name": "Python 3.10.2 64-bit",
   "language": "python",
   "name": "python3"
  },
  "language_info": {
   "codemirror_mode": {
    "name": "ipython",
    "version": 3
   },
   "file_extension": ".py",
   "mimetype": "text/x-python",
   "name": "python",
   "nbconvert_exporter": "python",
   "pygments_lexer": "ipython3",
   "version": "3.10.2"
  },
  "orig_nbformat": 4,
  "vscode": {
   "interpreter": {
    "hash": "26de051ba29f2982a8de78e945f0abaf191376122a1563185a90213a26c5da77"
   }
  }
 },
 "nbformat": 4,
 "nbformat_minor": 2
}
