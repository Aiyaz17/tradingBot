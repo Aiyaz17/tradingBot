{
 "cells": [
  {
   "cell_type": "code",
   "execution_count": 20,
   "metadata": {},
   "outputs": [
    {
     "data": {
      "text/plain": [
       "True"
      ]
     },
     "execution_count": 20,
     "metadata": {},
     "output_type": "execute_result"
    }
   ],
   "source": [
    "# !pip install fyers-apiv2 python-dotenv \n",
    "from fyers_api import fyersModel\n",
    "from fyers_api import accessToken\n",
    "import pandas as pd\n",
    "import datetime as dt\n",
    "import os\n",
    "from dotenv import load_dotenv\n",
    "load_dotenv(\"../.env\")\n"
   ]
  },
  {
   "cell_type": "code",
   "execution_count": 21,
   "metadata": {},
   "outputs": [],
   "source": [
    "client_id=os.environ.get('API_CLIENT_ID')\n",
    "secret_key=os.environ.get('API_SECRET_KEY')\n",
    "redirect_uri=os.environ.get('API_REDIRECT_URL')"
   ]
  },
  {
   "cell_type": "code",
   "execution_count": 22,
   "metadata": {},
   "outputs": [],
   "source": [
    "session=accessToken.SessionModel(client_id=client_id,\n",
    "secret_key=secret_key,redirect_uri=redirect_uri, \n",
    "response_type='code', grant_type='authorization_code')\n"
   ]
  },
  {
   "cell_type": "code",
   "execution_count": 23,
   "metadata": {},
   "outputs": [
    {
     "name": "stdout",
     "output_type": "stream",
     "text": [
      "https://api.fyers.in/api/v2/generate-authcode?client_id=QW4JS7GAG2-100&redirect_uri=https%3A%2F%2F127.0.0.1%3A5000%2Flogin&response_type=code&state=None\n"
     ]
    }
   ],
   "source": [
    "auth_code_provider = session.generate_authcode()\n",
    "print(auth_code_provider)"
   ]
  },
  {
   "cell_type": "code",
   "execution_count": 24,
   "metadata": {},
   "outputs": [],
   "source": [
    "auth_code=str(input(\"Enter the auth_code: \"))"
   ]
  },
  {
   "cell_type": "code",
   "execution_count": 25,
   "metadata": {},
   "outputs": [
    {
     "name": "stdout",
     "output_type": "stream",
     "text": [
      "Access token is generated\n"
     ]
    }
   ],
   "source": [
    "session.set_token(auth_code)\n",
    "response = session.generate_token()\n",
    "access_token = response[\"access_token\"]\n",
    "if(access_token is None):\n",
    "    print(\"Access token is not generated\")\n",
    "else:\n",
    "    print(\"Access token is generated\")\n",
    "    "
   ]
  },
  {
   "cell_type": "code",
   "execution_count": 26,
   "metadata": {},
   "outputs": [],
   "source": [
    "fyers = fyersModel.FyersModel(client_id=client_id, token=access_token)\n",
    "is_async = True"
   ]
  },
  {
   "cell_type": "code",
   "execution_count": 27,
   "metadata": {},
   "outputs": [
    {
     "name": "stdout",
     "output_type": "stream",
     "text": [
      "ERR: logEntryFunc: get_profile : [Errno 13] Permission denied: '/2022-08-08.txt'\n"
     ]
    },
    {
     "data": {
      "text/plain": [
       "{'s': 'ok',\n",
       " 'code': 200,\n",
       " 'message': '',\n",
       " 'data': {'fy_id': 'XA15265',\n",
       "  'name': 'AIYAZ ANWAR QURESHI',\n",
       "  'image': None,\n",
       "  'display_name': None,\n",
       "  'pin_change_date': '31-07-2022 00:55:39',\n",
       "  'email_id': 'qureshi.aiyaz123@gmail.com',\n",
       "  'pwd_change_date': '31-07-2022 00:54:23',\n",
       "  'PAN': '---------',\n",
       "  'pwd_to_expire': 142}}"
      ]
     },
     "execution_count": 27,
     "metadata": {},
     "output_type": "execute_result"
    }
   ],
   "source": [
    "fyers.get_profile()"
   ]
  },
  {
   "cell_type": "code",
   "execution_count": 28,
   "metadata": {},
   "outputs": [],
   "source": [
    "# Getting Data\n",
    "def dynamicDataFetching(startDate,endDate,symbol):\n",
    "    # Creating a dataframe to store the data\n",
    "    df = pd.DataFrame(columns=[\"date\",\"open\",\"high\",\"low\",\"close\",\"volume\"])\n",
    "    today = dt.date.today()\n",
    "    range_from=startDate\n",
    "    while(range_from<=today):\n",
    "    # Check whether the upcoming endDate is lesser than today if we add 99D or else make it today\n",
    "        if((range_from + dt.timedelta(days=99))<today):\n",
    "            range_to = range_from + dt.timedelta(days=99)\n",
    "        else:\n",
    "            range_to = today\n",
    "\n",
    "        # Api call \n",
    "        data = {\"symbol\":symbol,\"resolution\":\"5\",\"date_format\":\"1\",\"range_from\":range_from,\"range_to\":range_to,\"cont_flag\":\"1\"}\n",
    "        res = fyers.history(data)\n",
    "        res = res[\"candles\"]\n",
    "        \n",
    "        # Converting the data into pandas dataframe \n",
    "        tempDf = pd.DataFrame(columns=[\"date\",\"open\",\"high\",\"low\",\"close\",\"volume\"])\n",
    "        for i in range(len(res)):\n",
    "             tempDf.loc[i]= [\n",
    "                res[i][0],\n",
    "                res[i][1],\n",
    "                res[i][2],\n",
    "                res[i][3],\n",
    "                res[i][4],\n",
    "                res[i][5]]\n",
    "       \n",
    "        # Appending the data to the main dataframe\n",
    "        df = pd.concat([df,tempDf])\n",
    "\n",
    "        # Updating the range_from to last date of last api call\n",
    "        range_from=range_to+dt.timedelta(days=1)\n",
    "    return df"
   ]
  },
  {
   "cell_type": "code",
   "execution_count": 29,
   "metadata": {},
   "outputs": [
    {
     "name": "stdout",
     "output_type": "stream",
     "text": [
      "ERR: logEntryFunc: history : [Errno 13] Permission denied: '/2022-08-08.txt'\n",
      "ERR: logEntryFunc: history : [Errno 13] Permission denied: '/2022-08-08.txt'\n",
      "ERR: logEntryFunc: history : [Errno 13] Permission denied: '/2022-08-08.txt'\n",
      "ERR: logEntryFunc: history : [Errno 13] Permission denied: '/2022-08-08.txt'\n",
      "ERR: logEntryFunc: history : [Errno 13] Permission denied: '/2022-08-08.txt'\n",
      "ERR: logEntryFunc: history : [Errno 13] Permission denied: '/2022-08-08.txt'\n",
      "ERR: logEntryFunc: history : [Errno 13] Permission denied: '/2022-08-08.txt'\n",
      "ERR: logEntryFunc: history : [Errno 13] Permission denied: '/2022-08-08.txt'\n",
      "ERR: logEntryFunc: history : [Errno 13] Permission denied: '/2022-08-08.txt'\n",
      "ERR: logEntryFunc: history : [Errno 13] Permission denied: '/2022-08-08.txt'\n",
      "ERR: logEntryFunc: history : [Errno 13] Permission denied: '/2022-08-08.txt'\n",
      "ERR: logEntryFunc: history : [Errno 13] Permission denied: '/2022-08-08.txt'\n",
      "ERR: logEntryFunc: history : [Errno 13] Permission denied: '/2022-08-08.txt'\n"
     ]
    },
    {
     "ename": "KeyboardInterrupt",
     "evalue": "",
     "output_type": "error",
     "traceback": [
      "\u001b[1;31m---------------------------------------------------------------------------\u001b[0m",
      "\u001b[1;31mKeyboardInterrupt\u001b[0m                         Traceback (most recent call last)",
      "\u001b[1;32mc:\\Users\\prave\\OneDrive\\Documents\\Vs code\\tradingBot\\data_fetching\\data_fetching.ipynb Cell 10\u001b[0m in \u001b[0;36m<cell line: 5>\u001b[1;34m()\u001b[0m\n\u001b[0;32m      <a href='vscode-notebook-cell:/c%3A/Users/prave/OneDrive/Documents/Vs%20code/tradingBot/data_fetching/data_fetching.ipynb#X12sZmlsZQ%3D%3D?line=1'>2</a>\u001b[0m endDate \u001b[39m=\u001b[39m dt\u001b[39m.\u001b[39mdate\u001b[39m.\u001b[39mtoday()\n\u001b[0;32m      <a href='vscode-notebook-cell:/c%3A/Users/prave/OneDrive/Documents/Vs%20code/tradingBot/data_fetching/data_fetching.ipynb#X12sZmlsZQ%3D%3D?line=2'>3</a>\u001b[0m symbol\u001b[39m=\u001b[39m\u001b[39m\"\u001b[39m\u001b[39mNSE:NTPC-EQ\u001b[39m\u001b[39m\"\u001b[39m\n\u001b[1;32m----> <a href='vscode-notebook-cell:/c%3A/Users/prave/OneDrive/Documents/Vs%20code/tradingBot/data_fetching/data_fetching.ipynb#X12sZmlsZQ%3D%3D?line=4'>5</a>\u001b[0m df \u001b[39m=\u001b[39m dynamicDataFetching(startDate,endDate,symbol)\n\u001b[0;32m      <a href='vscode-notebook-cell:/c%3A/Users/prave/OneDrive/Documents/Vs%20code/tradingBot/data_fetching/data_fetching.ipynb#X12sZmlsZQ%3D%3D?line=5'>6</a>\u001b[0m \u001b[39mprint\u001b[39m(df\u001b[39m.\u001b[39mdtypes)\n\u001b[0;32m      <a href='vscode-notebook-cell:/c%3A/Users/prave/OneDrive/Documents/Vs%20code/tradingBot/data_fetching/data_fetching.ipynb#X12sZmlsZQ%3D%3D?line=6'>7</a>\u001b[0m \u001b[39mprint\u001b[39m(df\u001b[39m.\u001b[39mdescribe())\n",
      "\u001b[1;32mc:\\Users\\prave\\OneDrive\\Documents\\Vs code\\tradingBot\\data_fetching\\data_fetching.ipynb Cell 10\u001b[0m in \u001b[0;36mdynamicDataFetching\u001b[1;34m(startDate, endDate, symbol)\u001b[0m\n\u001b[0;32m     <a href='vscode-notebook-cell:/c%3A/Users/prave/OneDrive/Documents/Vs%20code/tradingBot/data_fetching/data_fetching.ipynb#X12sZmlsZQ%3D%3D?line=19'>20</a>\u001b[0m tempDf \u001b[39m=\u001b[39m pd\u001b[39m.\u001b[39mDataFrame(columns\u001b[39m=\u001b[39m[\u001b[39m\"\u001b[39m\u001b[39mdate\u001b[39m\u001b[39m\"\u001b[39m,\u001b[39m\"\u001b[39m\u001b[39mopen\u001b[39m\u001b[39m\"\u001b[39m,\u001b[39m\"\u001b[39m\u001b[39mhigh\u001b[39m\u001b[39m\"\u001b[39m,\u001b[39m\"\u001b[39m\u001b[39mlow\u001b[39m\u001b[39m\"\u001b[39m,\u001b[39m\"\u001b[39m\u001b[39mclose\u001b[39m\u001b[39m\"\u001b[39m,\u001b[39m\"\u001b[39m\u001b[39mvolume\u001b[39m\u001b[39m\"\u001b[39m])\n\u001b[0;32m     <a href='vscode-notebook-cell:/c%3A/Users/prave/OneDrive/Documents/Vs%20code/tradingBot/data_fetching/data_fetching.ipynb#X12sZmlsZQ%3D%3D?line=20'>21</a>\u001b[0m \u001b[39mfor\u001b[39;00m i \u001b[39min\u001b[39;00m \u001b[39mrange\u001b[39m(\u001b[39mlen\u001b[39m(res)):\n\u001b[1;32m---> <a href='vscode-notebook-cell:/c%3A/Users/prave/OneDrive/Documents/Vs%20code/tradingBot/data_fetching/data_fetching.ipynb#X12sZmlsZQ%3D%3D?line=21'>22</a>\u001b[0m      tempDf\u001b[39m.\u001b[39mloc[i]\u001b[39m=\u001b[39m [\n\u001b[0;32m     <a href='vscode-notebook-cell:/c%3A/Users/prave/OneDrive/Documents/Vs%20code/tradingBot/data_fetching/data_fetching.ipynb#X12sZmlsZQ%3D%3D?line=22'>23</a>\u001b[0m         res[i][\u001b[39m0\u001b[39m],\n\u001b[0;32m     <a href='vscode-notebook-cell:/c%3A/Users/prave/OneDrive/Documents/Vs%20code/tradingBot/data_fetching/data_fetching.ipynb#X12sZmlsZQ%3D%3D?line=23'>24</a>\u001b[0m         res[i][\u001b[39m1\u001b[39m],\n\u001b[0;32m     <a href='vscode-notebook-cell:/c%3A/Users/prave/OneDrive/Documents/Vs%20code/tradingBot/data_fetching/data_fetching.ipynb#X12sZmlsZQ%3D%3D?line=24'>25</a>\u001b[0m         res[i][\u001b[39m2\u001b[39m],\n\u001b[0;32m     <a href='vscode-notebook-cell:/c%3A/Users/prave/OneDrive/Documents/Vs%20code/tradingBot/data_fetching/data_fetching.ipynb#X12sZmlsZQ%3D%3D?line=25'>26</a>\u001b[0m         res[i][\u001b[39m3\u001b[39m],\n\u001b[0;32m     <a href='vscode-notebook-cell:/c%3A/Users/prave/OneDrive/Documents/Vs%20code/tradingBot/data_fetching/data_fetching.ipynb#X12sZmlsZQ%3D%3D?line=26'>27</a>\u001b[0m         res[i][\u001b[39m4\u001b[39m],\n\u001b[0;32m     <a href='vscode-notebook-cell:/c%3A/Users/prave/OneDrive/Documents/Vs%20code/tradingBot/data_fetching/data_fetching.ipynb#X12sZmlsZQ%3D%3D?line=27'>28</a>\u001b[0m         res[i][\u001b[39m5\u001b[39m]]\n\u001b[0;32m     <a href='vscode-notebook-cell:/c%3A/Users/prave/OneDrive/Documents/Vs%20code/tradingBot/data_fetching/data_fetching.ipynb#X12sZmlsZQ%3D%3D?line=29'>30</a>\u001b[0m \u001b[39m# Appending the data to the main dataframe\u001b[39;00m\n\u001b[0;32m     <a href='vscode-notebook-cell:/c%3A/Users/prave/OneDrive/Documents/Vs%20code/tradingBot/data_fetching/data_fetching.ipynb#X12sZmlsZQ%3D%3D?line=30'>31</a>\u001b[0m df \u001b[39m=\u001b[39m pd\u001b[39m.\u001b[39mconcat([df,tempDf])\n",
      "File \u001b[1;32mc:\\Python310\\lib\\site-packages\\pandas\\core\\indexing.py:716\u001b[0m, in \u001b[0;36m_LocationIndexer.__setitem__\u001b[1;34m(self, key, value)\u001b[0m\n\u001b[0;32m    713\u001b[0m \u001b[39mself\u001b[39m\u001b[39m.\u001b[39m_has_valid_setitem_indexer(key)\n\u001b[0;32m    715\u001b[0m iloc \u001b[39m=\u001b[39m \u001b[39mself\u001b[39m \u001b[39mif\u001b[39;00m \u001b[39mself\u001b[39m\u001b[39m.\u001b[39mname \u001b[39m==\u001b[39m \u001b[39m\"\u001b[39m\u001b[39miloc\u001b[39m\u001b[39m\"\u001b[39m \u001b[39melse\u001b[39;00m \u001b[39mself\u001b[39m\u001b[39m.\u001b[39mobj\u001b[39m.\u001b[39miloc\n\u001b[1;32m--> 716\u001b[0m iloc\u001b[39m.\u001b[39;49m_setitem_with_indexer(indexer, value, \u001b[39mself\u001b[39;49m\u001b[39m.\u001b[39;49mname)\n",
      "File \u001b[1;32mc:\\Python310\\lib\\site-packages\\pandas\\core\\indexing.py:1682\u001b[0m, in \u001b[0;36m_iLocIndexer._setitem_with_indexer\u001b[1;34m(self, indexer, value, name)\u001b[0m\n\u001b[0;32m   1679\u001b[0m     indexer, missing \u001b[39m=\u001b[39m convert_missing_indexer(indexer)\n\u001b[0;32m   1681\u001b[0m     \u001b[39mif\u001b[39;00m missing:\n\u001b[1;32m-> 1682\u001b[0m         \u001b[39mself\u001b[39;49m\u001b[39m.\u001b[39;49m_setitem_with_indexer_missing(indexer, value)\n\u001b[0;32m   1683\u001b[0m         \u001b[39mreturn\u001b[39;00m\n\u001b[0;32m   1685\u001b[0m \u001b[39m# align and set the values\u001b[39;00m\n",
      "File \u001b[1;32mc:\\Python310\\lib\\site-packages\\pandas\\core\\indexing.py:2020\u001b[0m, in \u001b[0;36m_iLocIndexer._setitem_with_indexer_missing\u001b[1;34m(self, indexer, value)\u001b[0m\n\u001b[0;32m   2018\u001b[0m     \u001b[39mself\u001b[39m\u001b[39m.\u001b[39mobj\u001b[39m.\u001b[39m_mgr \u001b[39m=\u001b[39m df\u001b[39m.\u001b[39m_mgr\n\u001b[0;32m   2019\u001b[0m \u001b[39melse\u001b[39;00m:\n\u001b[1;32m-> 2020\u001b[0m     \u001b[39mself\u001b[39m\u001b[39m.\u001b[39mobj\u001b[39m.\u001b[39m_mgr \u001b[39m=\u001b[39m \u001b[39mself\u001b[39;49m\u001b[39m.\u001b[39;49mobj\u001b[39m.\u001b[39;49m_append(value)\u001b[39m.\u001b[39m_mgr\n\u001b[0;32m   2021\u001b[0m \u001b[39mself\u001b[39m\u001b[39m.\u001b[39mobj\u001b[39m.\u001b[39m_maybe_update_cacher(clear\u001b[39m=\u001b[39m\u001b[39mTrue\u001b[39;00m)\n",
      "File \u001b[1;32mc:\\Python310\\lib\\site-packages\\pandas\\core\\frame.py:9066\u001b[0m, in \u001b[0;36mDataFrame._append\u001b[1;34m(self, other, ignore_index, verify_integrity, sort)\u001b[0m\n\u001b[0;32m   9063\u001b[0m     row_df \u001b[39m=\u001b[39m other\u001b[39m.\u001b[39mto_frame()\u001b[39m.\u001b[39mT\n\u001b[0;32m   9064\u001b[0m     \u001b[39m# infer_objects is needed for\u001b[39;00m\n\u001b[0;32m   9065\u001b[0m     \u001b[39m#  test_append_empty_frame_to_series_with_dateutil_tz\u001b[39;00m\n\u001b[1;32m-> 9066\u001b[0m     other \u001b[39m=\u001b[39m row_df\u001b[39m.\u001b[39;49minfer_objects()\u001b[39m.\u001b[39mrename_axis(index\u001b[39m.\u001b[39mnames, copy\u001b[39m=\u001b[39m\u001b[39mFalse\u001b[39;00m)\n\u001b[0;32m   9067\u001b[0m \u001b[39melif\u001b[39;00m \u001b[39misinstance\u001b[39m(other, \u001b[39mlist\u001b[39m):\n\u001b[0;32m   9068\u001b[0m     \u001b[39mif\u001b[39;00m \u001b[39mnot\u001b[39;00m other:\n",
      "File \u001b[1;32mc:\\Python310\\lib\\site-packages\\pandas\\core\\generic.py:6129\u001b[0m, in \u001b[0;36mNDFrame.infer_objects\u001b[1;34m(self)\u001b[0m\n\u001b[0;32m   6088\u001b[0m \u001b[39m\"\"\"\u001b[39;00m\n\u001b[0;32m   6089\u001b[0m \u001b[39mAttempt to infer better dtypes for object columns.\u001b[39;00m\n\u001b[0;32m   6090\u001b[0m \n\u001b[1;32m   (...)\u001b[0m\n\u001b[0;32m   6123\u001b[0m \u001b[39mdtype: object\u001b[39;00m\n\u001b[0;32m   6124\u001b[0m \u001b[39m\"\"\"\u001b[39;00m\n\u001b[0;32m   6125\u001b[0m \u001b[39m# numeric=False necessary to only soft convert;\u001b[39;00m\n\u001b[0;32m   6126\u001b[0m \u001b[39m# python objects will still be converted to\u001b[39;00m\n\u001b[0;32m   6127\u001b[0m \u001b[39m# native numpy numeric types\u001b[39;00m\n\u001b[0;32m   6128\u001b[0m \u001b[39mreturn\u001b[39;00m \u001b[39mself\u001b[39m\u001b[39m.\u001b[39m_constructor(\n\u001b[1;32m-> 6129\u001b[0m     \u001b[39mself\u001b[39;49m\u001b[39m.\u001b[39;49m_mgr\u001b[39m.\u001b[39;49mconvert(datetime\u001b[39m=\u001b[39;49m\u001b[39mTrue\u001b[39;49;00m, numeric\u001b[39m=\u001b[39;49m\u001b[39mFalse\u001b[39;49;00m, timedelta\u001b[39m=\u001b[39;49m\u001b[39mTrue\u001b[39;49;00m, copy\u001b[39m=\u001b[39;49m\u001b[39mTrue\u001b[39;49;00m)\n\u001b[0;32m   6130\u001b[0m )\u001b[39m.\u001b[39m__finalize__(\u001b[39mself\u001b[39m, method\u001b[39m=\u001b[39m\u001b[39m\"\u001b[39m\u001b[39minfer_objects\u001b[39m\u001b[39m\"\u001b[39m)\n",
      "File \u001b[1;32mc:\\Python310\\lib\\site-packages\\pandas\\core\\internals\\managers.py:428\u001b[0m, in \u001b[0;36mBaseBlockManager.convert\u001b[1;34m(self, copy, datetime, numeric, timedelta)\u001b[0m\n\u001b[0;32m    421\u001b[0m \u001b[39mdef\u001b[39;00m \u001b[39mconvert\u001b[39m(\n\u001b[0;32m    422\u001b[0m     \u001b[39mself\u001b[39m: T,\n\u001b[0;32m    423\u001b[0m     copy: \u001b[39mbool\u001b[39m \u001b[39m=\u001b[39m \u001b[39mTrue\u001b[39;00m,\n\u001b[1;32m   (...)\u001b[0m\n\u001b[0;32m    426\u001b[0m     timedelta: \u001b[39mbool\u001b[39m \u001b[39m=\u001b[39m \u001b[39mTrue\u001b[39;00m,\n\u001b[0;32m    427\u001b[0m ) \u001b[39m-\u001b[39m\u001b[39m>\u001b[39m T:\n\u001b[1;32m--> 428\u001b[0m     \u001b[39mreturn\u001b[39;00m \u001b[39mself\u001b[39;49m\u001b[39m.\u001b[39;49mapply(\n\u001b[0;32m    429\u001b[0m         \u001b[39m\"\u001b[39;49m\u001b[39mconvert\u001b[39;49m\u001b[39m\"\u001b[39;49m,\n\u001b[0;32m    430\u001b[0m         copy\u001b[39m=\u001b[39;49mcopy,\n\u001b[0;32m    431\u001b[0m         datetime\u001b[39m=\u001b[39;49mdatetime,\n\u001b[0;32m    432\u001b[0m         numeric\u001b[39m=\u001b[39;49mnumeric,\n\u001b[0;32m    433\u001b[0m         timedelta\u001b[39m=\u001b[39;49mtimedelta,\n\u001b[0;32m    434\u001b[0m     )\n",
      "File \u001b[1;32mc:\\Python310\\lib\\site-packages\\pandas\\core\\internals\\managers.py:304\u001b[0m, in \u001b[0;36mBaseBlockManager.apply\u001b[1;34m(self, f, align_keys, ignore_failures, **kwargs)\u001b[0m\n\u001b[0;32m    302\u001b[0m         applied \u001b[39m=\u001b[39m b\u001b[39m.\u001b[39mapply(f, \u001b[39m*\u001b[39m\u001b[39m*\u001b[39mkwargs)\n\u001b[0;32m    303\u001b[0m     \u001b[39melse\u001b[39;00m:\n\u001b[1;32m--> 304\u001b[0m         applied \u001b[39m=\u001b[39m \u001b[39mgetattr\u001b[39m(b, f)(\u001b[39m*\u001b[39m\u001b[39m*\u001b[39mkwargs)\n\u001b[0;32m    305\u001b[0m \u001b[39mexcept\u001b[39;00m (\u001b[39mTypeError\u001b[39;00m, \u001b[39mNotImplementedError\u001b[39;00m):\n\u001b[0;32m    306\u001b[0m     \u001b[39mif\u001b[39;00m \u001b[39mnot\u001b[39;00m ignore_failures:\n",
      "File \u001b[1;32mc:\\Python310\\lib\\site-packages\\pandas\\core\\internals\\blocks.py:604\u001b[0m, in \u001b[0;36mBlock.convert\u001b[1;34m(self, copy, datetime, numeric, timedelta)\u001b[0m\n\u001b[0;32m    592\u001b[0m \u001b[39mdef\u001b[39;00m \u001b[39mconvert\u001b[39m(\n\u001b[0;32m    593\u001b[0m     \u001b[39mself\u001b[39m,\n\u001b[0;32m    594\u001b[0m     copy: \u001b[39mbool\u001b[39m \u001b[39m=\u001b[39m \u001b[39mTrue\u001b[39;00m,\n\u001b[1;32m   (...)\u001b[0m\n\u001b[0;32m    597\u001b[0m     timedelta: \u001b[39mbool\u001b[39m \u001b[39m=\u001b[39m \u001b[39mTrue\u001b[39;00m,\n\u001b[0;32m    598\u001b[0m ) \u001b[39m-\u001b[39m\u001b[39m>\u001b[39m \u001b[39mlist\u001b[39m[Block]:\n\u001b[0;32m    599\u001b[0m     \u001b[39m\"\"\"\u001b[39;00m\n\u001b[0;32m    600\u001b[0m \u001b[39m    attempt to coerce any object types to better types return a copy\u001b[39;00m\n\u001b[0;32m    601\u001b[0m \u001b[39m    of the block (if copy = True) by definition we are not an ObjectBlock\u001b[39;00m\n\u001b[0;32m    602\u001b[0m \u001b[39m    here!\u001b[39;00m\n\u001b[0;32m    603\u001b[0m \u001b[39m    \"\"\"\u001b[39;00m\n\u001b[1;32m--> 604\u001b[0m     \u001b[39mreturn\u001b[39;00m [\u001b[39mself\u001b[39;49m\u001b[39m.\u001b[39;49mcopy()] \u001b[39mif\u001b[39;00m copy \u001b[39melse\u001b[39;00m [\u001b[39mself\u001b[39m]\n",
      "File \u001b[1;32mc:\\Python310\\lib\\site-packages\\pandas\\core\\internals\\blocks.py:643\u001b[0m, in \u001b[0;36mBlock.copy\u001b[1;34m(self, deep)\u001b[0m\n\u001b[0;32m    641\u001b[0m values \u001b[39m=\u001b[39m \u001b[39mself\u001b[39m\u001b[39m.\u001b[39mvalues\n\u001b[0;32m    642\u001b[0m \u001b[39mif\u001b[39;00m deep:\n\u001b[1;32m--> 643\u001b[0m     values \u001b[39m=\u001b[39m values\u001b[39m.\u001b[39;49mcopy()\n\u001b[0;32m    644\u001b[0m \u001b[39mreturn\u001b[39;00m \u001b[39mtype\u001b[39m(\u001b[39mself\u001b[39m)(values, placement\u001b[39m=\u001b[39m\u001b[39mself\u001b[39m\u001b[39m.\u001b[39m_mgr_locs, ndim\u001b[39m=\u001b[39m\u001b[39mself\u001b[39m\u001b[39m.\u001b[39mndim)\n",
      "\u001b[1;31mKeyboardInterrupt\u001b[0m: "
     ]
    }
   ],
   "source": [
    "startDate = dt.date(2017,1,1)\n",
    "endDate = dt.date.today()\n",
    "symbol=\"NSE:NTPC-EQ\"\n",
    "\n",
    "df = dynamicDataFetching(startDate,endDate,symbol)\n",
    "print(df.dtypes)\n",
    "print(df.describe())"
   ]
  },
  {
   "cell_type": "code",
   "execution_count": 19,
   "metadata": {},
   "outputs": [
    {
     "ename": "NameError",
     "evalue": "name 'df' is not defined",
     "output_type": "error",
     "traceback": [
      "\u001b[1;31m---------------------------------------------------------------------------\u001b[0m",
      "\u001b[1;31mNameError\u001b[0m                                 Traceback (most recent call last)",
      "\u001b[1;32mc:\\Users\\prave\\OneDrive\\Documents\\Vs code\\tradingBot\\data_fetching\\data_fetching.ipynb Cell 11\u001b[0m in \u001b[0;36m<cell line: 1>\u001b[1;34m()\u001b[0m\n\u001b[1;32m----> <a href='vscode-notebook-cell:/c%3A/Users/prave/OneDrive/Documents/Vs%20code/tradingBot/data_fetching/data_fetching.ipynb#X13sZmlsZQ%3D%3D?line=0'>1</a>\u001b[0m \u001b[39mprint\u001b[39m(df\u001b[39m.\u001b[39mhead())\n",
      "\u001b[1;31mNameError\u001b[0m: name 'df' is not defined"
     ]
    }
   ],
   "source": [
    "print(df.head())"
   ]
  },
  {
   "cell_type": "code",
   "execution_count": 29,
   "metadata": {},
   "outputs": [
    {
     "name": "stdout",
     "output_type": "stream",
     "text": [
      "                             open    high     low   close    volume\n",
      "date                                                               \n",
      "2017-07-03 09:15:00+05:30  191.35  192.10  191.35  191.60  276376.0\n",
      "2017-07-03 09:20:00+05:30  191.75  193.40  191.75  193.20  329709.0\n",
      "2017-07-03 09:25:00+05:30  193.05  194.10  192.95  194.10  295047.0\n",
      "2017-07-03 09:30:00+05:30  194.00  194.75  194.00  194.75  445852.0\n",
      "2017-07-03 09:35:00+05:30  194.75  195.65  194.55  195.30  450285.0\n",
      "\n",
      "Data types :\n",
      " open      float64\n",
      "high      float64\n",
      "low       float64\n",
      "close     float64\n",
      "volume    float64\n",
      "dtype: object\n"
     ]
    }
   ],
   "source": [
    "# Converting everything to playable format + changing the time zone from utc to ist\n",
    "df[\"date\"]= pd.to_datetime(df[\"date\"],unit='s',utc=True).dt.tz_convert('Asia/Kolkata')\n",
    "df.set_index(\"date\",inplace=True)\n",
    "df[\"open\"]=df[\"open\"].astype(float)\n",
    "df[\"high\"]=df[\"high\"].astype(float)\n",
    "df[\"low\"]=df[\"low\"].astype(float)\n",
    "df[\"close\"]=df[\"close\"].astype(float)\n",
    "df[\"volume\"]=df[\"volume\"].astype(float)\n",
    "\n",
    "print(df.head())\n",
    "print(\"\\nData types :\\n\" , df.dtypes)"
   ]
  },
  {
   "cell_type": "code",
   "execution_count": 26,
   "metadata": {},
   "outputs": [],
   "source": [
    "# Export df to csv\n",
    "fileName = \"5Y_UPL.csv\"\n",
    "df.to_csv(f\"../data/{fileName}\")"
   ]
  }
 ],
 "metadata": {
  "kernelspec": {
   "display_name": "Python 3.10.0 64-bit",
   "language": "python",
   "name": "python3"
  },
  "language_info": {
   "codemirror_mode": {
    "name": "ipython",
    "version": 3
   },
   "file_extension": ".py",
   "mimetype": "text/x-python",
   "name": "python",
   "nbconvert_exporter": "python",
   "pygments_lexer": "ipython3",
   "version": "3.10.0"
  },
  "vscode": {
   "interpreter": {
    "hash": "369f2c481f4da34e4445cda3fffd2e751bd1c4d706f27375911949ba6bb62e1c"
   }
  }
 },
 "nbformat": 4,
 "nbformat_minor": 2
}
