{
 "cells": [
  {
   "cell_type": "code",
   "execution_count": 2,
   "metadata": {},
   "outputs": [
    {
     "name": "stdout",
     "output_type": "stream",
     
    }
   ],
   "source": [
    "%run ../fyers_auth.ipynb\n",
    "import sys\n",
    "sys.path.append('../shared')\n",
    "from data_fetching_func import dynamicDataFetching,clean_data \n",
    "import pandas as pd\n",
    "import datetime as dt"
   ]
  },
  {
   "cell_type": "code",
   "execution_count": 36,
   "metadata": {},
   "outputs": [
    {
     "name": "stdout",
     "output_type": "stream",
     "text": [
      "date      object\n",
      "open      object\n",
      "high      object\n",
      "low       object\n",
      "close     object\n",
      "volume    object\n",
      "dtype: object\n",
      "                date      open      high       low     close    volume\n",
      "count   4.908920e+05  490892.0  490892.0  490892.0  490892.0  490892.0\n",
      "unique  4.908920e+05    8520.0    8508.0    8502.0    8509.0  181131.0\n",
      "top     1.499054e+09     288.0     273.0     252.0     273.0   14918.0\n",
      "freq    1.000000e+00     287.0     385.0     331.0     305.0      21.0\n"
     ]
    }
   ],
   "source": [
    "startDate = dt.date(2012,10,20)\n",
    "endDate = dt.date.today()\n",
    "symbol=\"NSE:SBIN-EQ\"\n",
    "resolution = \"1\"\n",
    "df = dynamicDataFetching(fyers,startDate,endDate,symbol,resolution)\n",
    "print(df.dtypes)\n",
    "print(df.describe())"
   ]
  },
  {
   "cell_type": "code",
   "execution_count": 37,
   "metadata": {},
   "outputs": [],
   "source": [
    "clean_data(df)"
   ]
  },
  {
   "cell_type": "code",
   "execution_count": 38,
   "metadata": {},
   "outputs": [
    {
     "data": {
      "text/plain": [
       "(490892, 5)"
      ]
     },
     "execution_count": 38,
     "metadata": {},
     "output_type": "execute_result"
    }
   ],
   "source": [
    "# print(df.head())\n",
    "df.shape"
   ]
  },
  {
   "cell_type": "code",
   "execution_count": 39,
   "metadata": {},
   "outputs": [
    {
     "data": {
      "text/plain": [
       "<bound method NDFrame.head of                              open    high     low   close    volume\n",
       "date                                                               \n",
       "2017-07-03 09:15:00+05:30  274.20  275.00  274.20  274.65  112783.0\n",
       "2017-07-03 09:16:00+05:30  274.55  274.70  274.20  274.30   67471.0\n",
       "2017-07-03 09:17:00+05:30  274.35  274.45  274.10  274.20  105108.0\n",
       "2017-07-03 09:18:00+05:30  274.20  274.20  273.80  273.90   51453.0\n",
       "2017-07-03 09:19:00+05:30  273.85  274.00  273.60  273.65   45098.0\n",
       "...                           ...     ...     ...     ...       ...\n",
       "2022-10-20 14:28:00+05:30  553.70  553.85  553.30  553.35   29500.0\n",
       "2022-10-20 14:29:00+05:30  553.35  553.85  553.30  553.60   22314.0\n",
       "2022-10-20 14:30:00+05:30  553.55  554.55  553.45  554.25   42862.0\n",
       "2022-10-20 14:31:00+05:30  554.25  554.75  554.05  554.70   27277.0\n",
       "2022-10-20 14:32:00+05:30  554.70  554.95  554.70  554.90   36825.0\n",
       "\n",
       "[490892 rows x 5 columns]>"
      ]
     },
     "execution_count": 39,
     "metadata": {},
     "output_type": "execute_result"
    }
   ],
   "source": [
    "df.head"
   ]
  },
  {
   "cell_type": "code",
   "execution_count": 40,
   "metadata": {},
   "outputs": [],
   "source": [
    "# Export df to csv\n",
    "fileName = \"5Y_SBIN_1min.csv\"\n",
    "df.to_csv(f\"../data/{fileName}\")"
   ]
  }
 ],
 "metadata": {
  "kernelspec": {
   "display_name": "Python 3 (ipykernel)",
   "language": "python",
   "name": "python3"
  },
  "language_info": {
   "codemirror_mode": {
    "name": "ipython",
    "version": 3
   },
   "file_extension": ".py",
   "mimetype": "text/x-python",
   "name": "python",
   "nbconvert_exporter": "python",
   "pygments_lexer": "ipython3",
   "version": "3.10.2"
  },
  "vscode": {
   "interpreter": {
    "hash": "26de051ba29f2982a8de78e945f0abaf191376122a1563185a90213a26c5da77"
   }
  }
 },
 "nbformat": 4,
 "nbformat_minor": 2
}
