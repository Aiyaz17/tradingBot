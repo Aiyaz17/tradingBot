{
 "cells": [
  {
   "cell_type": "code",
   "execution_count": 2,
   "metadata": {},
   "outputs": [
    {
     "name": "stderr",
     "output_type": "stream",
     "text": [
      "Python-dotenv could not parse statement starting at line 1\n",
      "Python-dotenv could not parse statement starting at line 4\n",
      "Python-dotenv could not parse statement starting at line 7\n"
     ]
    },
    {
     "data": {
      "text/plain": [
       "True"
      ]
     },
     "execution_count": 2,
     "metadata": {},
     "output_type": "execute_result"
    }
   ],
   "source": [
    "# !pip install dotenv fyers_api\n",
    "from fyers_api import fyersModel\n",
    "from fyers_api import accessToken\n",
    "import pandas as pd\n",
    "import datetime as dt\n",
    "import os\n",
    "from dotenv import load_dotenv\n",
    "load_dotenv(\"../.env\")\n",
    "# print(\"running\")"
   ]
  },
  {
   "cell_type": "code",
   "execution_count": 3,
   "metadata": {},
   "outputs": [],
   "source": [
    "client_id=os.environ.get('API_CLIENT_ID')\n",
    "secret_key=os.environ.get('API_SECRET_KEY')\n",
    "redirect_uri=os.environ.get('API_REDIRECT_URL')\n"
   ]
  },
  {
   "cell_type": "code",
   "execution_count": 4,
   "metadata": {},
   "outputs": [],
   "source": [
    "session=accessToken.SessionModel(client_id=client_id,\n",
    "secret_key=secret_key,redirect_uri=redirect_uri, \n",
    "response_type='code', grant_type='authorization_code')"
   ]
  },
  {
   "cell_type": "code",
   "execution_count": 5,
   "metadata": {},
   "outputs": [
    {
     "name": "stdout",
     "output_type": "stream",
     "text": [
      "https://api.fyers.in/api/v2/generate-authcode?client_id=QW4JS7GAG2-100&redirect_uri=https%3A%2F%2F127.0.0.1%3A5000%2Flogin&response_type=code&state=None\n"
     ]
    }
   ],
   "source": [
    "auth_code_provider = session.generate_authcode()\n",
    "print(auth_code_provider)"
   ]
  },
  {
   "cell_type": "code",
   "execution_count": 6,
   "metadata": {},
   "outputs": [],
   "source": [
    "auth_code=str(input(\"Enter the auth_code: \"))"
   ]
  },
  {
   "cell_type": "code",
   "execution_count": 7,
   "metadata": {},
   "outputs": [
    {
     "name": "stdout",
     "output_type": "stream",
     "text": [
      "Access token is generated\n"
     ]
    }
   ],
   "source": [
    "session.set_token(auth_code)\n",
    "response = session.generate_token()\n",
    "access_token = response[\"access_token\"]\n",
    "if(access_token is None):\n",
    "    print(\"Access token is not generated\")\n",
    "else:\n",
    "    print(\"Access token is generated\")\n",
    "    "
   ]
  },
  {
   "cell_type": "code",
   "execution_count": 8,
   "metadata": {},
   "outputs": [],
   "source": [
    "fyers = fyersModel.FyersModel(client_id=client_id, token=access_token)\n",
    "is_async = True"
   ]
  },
  {
   "cell_type": "code",
   "execution_count": 9,
   "metadata": {},
   "outputs": [
    {
     "name": "stdout",
     "output_type": "stream",
     "text": [
      "ERR: logEntryFunc: get_profile : [Errno 13] Permission denied: '/2022-08-04.txt'\n"
     ]
    },
    {
     "data": {
      "text/plain": [
       "{'s': 'ok',\n",
       " 'code': 200,\n",
       " 'message': '',\n",
       " 'data': {'fy_id': 'XA15265',\n",
       "  'name': 'AIYAZ ANWAR QURESHI',\n",
       "  'image': None,\n",
       "  'display_name': None,\n",
       "  'pin_change_date': '31-07-2022 00:55:39',\n",
       "  'email_id': 'qureshi.aiyaz123@gmail.com',\n",
       "  'pwd_change_date': '31-07-2022 00:54:23',\n",
       "  'PAN': '---------',\n",
       "  'pwd_to_expire': 146}}"
      ]
     },
     "execution_count": 9,
     "metadata": {},
     "output_type": "execute_result"
    }
   ],
   "source": [
    "fyers.get_profile()"
   ]
  },
  {
   "cell_type": "code",
   "execution_count": 13,
   "metadata": {},
   "outputs": [],
   "source": [
    "# Getting Data\n",
    "def dynamicDataFetching(startDate,endDate,symbol):\n",
    "    # Creating a dataframe to store the data\n",
    "    df = pd.DataFrame(columns=[\"date\",\"open\",\"high\",\"low\",\"close\",\"volume\"])\n",
    "    today = dt.date.today()\n",
    "    range_from=startDate\n",
    "    while(range_from<=today):\n",
    "    # Check whether the upcoming endDate is lesser than today if we add 99D or else make it today\n",
    "        if((range_from + dt.timedelta(days=99))<today):\n",
    "            range_to = range_from + dt.timedelta(days=99)\n",
    "        else:\n",
    "            range_to = today\n",
    "\n",
    "        # Api call \n",
    "        data = {\"symbol\":symbol,\"resolution\":\"5\",\"date_format\":\"1\",\"range_from\":range_from,\"range_to\":range_to,\"cont_flag\":\"1\"}\n",
    "        res = fyers.history(data)\n",
    "        res = res[\"candles\"]\n",
    "        \n",
    "        # Converting the data into pandas dataframe \n",
    "        tempDf = pd.DataFrame(columns=[\"date\",\"open\",\"high\",\"low\",\"close\",\"volume\"])\n",
    "        for i in range(len(res)):\n",
    "             tempDf.loc[i]= [\n",
    "                res[i][0],\n",
    "                res[i][1],\n",
    "                res[i][2],\n",
    "                res[i][3],\n",
    "                res[i][4],\n",
    "                res[i][5]]\n",
    "       \n",
    "        # Appending the data to the main dataframe\n",
    "        df = pd.concat([df,tempDf])\n",
    "\n",
    "        # Updating the range_from to last date of last api call\n",
    "        range_from=range_to+dt.timedelta(days=1)\n",
    "    return df"
   ]
  },
  {
   "cell_type": "code",
   "execution_count": 14,
   "metadata": {},
   "outputs": [
    {
     "name": "stdout",
     "output_type": "stream",
     "text": [
      "ERR: logEntryFunc: history : [Errno 13] Permission denied: '/2022-08-04.txt'\n",
      "ERR: logEntryFunc: history : [Errno 13] Permission denied: '/2022-08-04.txt'\n",
      "ERR: logEntryFunc: history : [Errno 13] Permission denied: '/2022-08-04.txt'\n",
      "ERR: logEntryFunc: history : [Errno 13] Permission denied: '/2022-08-04.txt'\n",
      "date      object\n",
      "open      object\n",
      "high      object\n",
      "low       object\n",
      "close     object\n",
      "volume    object\n",
      "dtype: object\n",
      "                date     open     high      low    close   volume\n",
      "count   2.048400e+04  20484.0  20484.0  20484.0  20484.0  20484.0\n",
      "unique  2.048400e+04   2696.0   2681.0   2682.0   2705.0  19942.0\n",
      "top     1.625111e+09    490.0    516.0    430.0    515.0  65077.0\n",
      "freq    1.000000e+00     29.0     46.0     39.0     33.0      4.0\n"
     ]
    }
   ],
   "source": [
    "startDate = dt.date(2021,7,1)\n",
    "endDate = dt.date.today()\n",
    "symbol=\"NSE:SBIN-EQ\"\n",
    "\n",
    "df = dynamicDataFetching(startDate,endDate,symbol)\n",
    "print(df.dtypes)\n",
    "print(df.describe())"
   ]
  },
  {
   "cell_type": "code",
   "execution_count": 15,
   "metadata": {},
   "outputs": [
    {
     "name": "stdout",
     "output_type": "stream",
     "text": [
      "           date    open    high     low   close     volume\n",
      "0  1625111100.0   420.3  420.75  417.15   419.0  1076303.0\n",
      "1  1625111400.0   419.0   419.0  417.25   418.0   708973.0\n",
      "2  1625111700.0   418.0  418.15   417.4   417.7   291299.0\n",
      "3  1625112000.0   417.5   418.4   417.3   418.1   416255.0\n",
      "4  1625112300.0  418.15   419.4  417.95  419.05   425712.0\n"
     ]
    }
   ],
   "source": [
    "print(df.head())"
   ]
  },
  {
   "cell_type": "code",
   "execution_count": 16,
   "metadata": {},
   "outputs": [
    {
     "name": "stdout",
     "output_type": "stream",
     "text": [
      "                             open    high     low   close     volume\n",
      "date                                                                \n",
      "2021-07-01 09:15:00+05:30  420.30  420.75  417.15  419.00  1076303.0\n",
      "2021-07-01 09:20:00+05:30  419.00  419.00  417.25  418.00   708973.0\n",
      "2021-07-01 09:25:00+05:30  418.00  418.15  417.40  417.70   291299.0\n",
      "2021-07-01 09:30:00+05:30  417.50  418.40  417.30  418.10   416255.0\n",
      "2021-07-01 09:35:00+05:30  418.15  419.40  417.95  419.05   425712.0\n",
      "\n",
      "Data types :\n",
      " open      float64\n",
      "high      float64\n",
      "low       float64\n",
      "close     float64\n",
      "volume    float64\n",
      "dtype: object\n"
     ]
    }
   ],
   "source": [
    "# Converting everything to playable format + changing the time zone from utc to ist\n",
    "df[\"date\"]= pd.to_datetime(df[\"date\"],unit='s',utc=True).dt.tz_convert('Asia/Kolkata')\n",
    "df.set_index(\"date\",inplace=True)\n",
    "df[\"open\"]=df[\"open\"].astype(float)\n",
    "df[\"high\"]=df[\"high\"].astype(float)\n",
    "df[\"low\"]=df[\"low\"].astype(float)\n",
    "df[\"close\"]=df[\"close\"].astype(float)\n",
    "df[\"volume\"]=df[\"volume\"].astype(float)\n",
    "\n",
    "print(df.head())\n",
    "print(\"\\nData types :\\n\" , df.dtypes)"
   ]
  },
  {
   "cell_type": "code",
   "execution_count": 18,
   "metadata": {},
   "outputs": [],
   "source": [
    "# Export df to csv\n",
    "fileName = \"SBI.csv\"\n",
    "# df.to_csv(f\"../data/{fileName}\")"
   ]
  }
 ],
 "metadata": {
  "kernelspec": {
   "display_name": "Python 3.10.0 64-bit",
   "language": "python",
   "name": "python3"
  },
  "language_info": {
   "codemirror_mode": {
    "name": "ipython",
    "version": 3
   },
   "file_extension": ".py",
   "mimetype": "text/x-python",
   "name": "python",
   "nbconvert_exporter": "python",
   "pygments_lexer": "ipython3",
   "version": "3.10.0"
  },
  "vscode": {
   "interpreter": {
    "hash": "369f2c481f4da34e4445cda3fffd2e751bd1c4d706f27375911949ba6bb62e1c"
   }
  }
 },
 "nbformat": 4,
 "nbformat_minor": 2
}
