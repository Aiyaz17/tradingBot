{
 "cells": [
  {
   "cell_type": "code",
   "execution_count": 1,
   "metadata": {},
   "outputs": [],
   "source": [
    "# !pip install fyers-apiv2 python-dotenv \n",
    "from fyers_api import fyersModel\n",
    "from fyers_api import accessToken\n",
    "import os\n",
    "from dotenv import load_dotenv\n",
    "load_dotenv(\"../.env\")\n",
    "import sys"
   ]
  },
  {
   "cell_type": "code",
   "execution_count": 2,
   "metadata": {},
   "outputs": [],
   "source": [
    "client_id=os.environ.get('API_CLIENT_ID')\n",
    "secret_key=os.environ.get('API_SECRET_KEY')\n",
    "redirect_uri=os.environ.get('API_REDIRECT_URL')"
   ]
  },
  {
   "cell_type": "code",
   "execution_count": 3,
   "metadata": {},
   "outputs": [],
   "source": [
    "session=accessToken.SessionModel(client_id=client_id,\n",
    "secret_key=secret_key,redirect_uri=redirect_uri, \n",
    "response_type='code', grant_type='authorization_code')\n"
   ]
  },
  {
   "cell_type": "code",
   "execution_count": 4,
   "metadata": {},
   "outputs": [
    {
     "name": "stdout",
     "output_type": "stream",
     "text": [
      "https://api.fyers.in/api/v2/generate-authcode?client_id=QW4JS7GAG2-100&redirect_uri=https%3A%2F%2F127.0.0.1%3A5000%2Flogin&response_type=code&state=None\n"
     ]
    }
   ],
   "source": [
    "auth_code_provider = session.generate_authcode()\n",
    "print(auth_code_provider)"
   ]
  },
  {
   "cell_type": "code",
   "execution_count": 5,
   "metadata": {},
   "outputs": [],
   "source": [
    "auth_code=str(input(\"Enter the auth_code: \"))"
   ]
  },
  {
   "cell_type": "code",
   "execution_count": 6,
   "metadata": {},
   "outputs": [
    {
     "name": "stdout",
     "output_type": "stream",
     "text": [
      "Access token is generated\n"
     ]
    }
   ],
   "source": [
    "session.set_token(auth_code)\n",
    "response = session.generate_token()\n",
    "access_token = response[\"access_token\"]\n",
    "if(access_token is None):\n",
    "    print(\"Access token is not generated\")\n",
    "else:\n",
    "    print(\"Access token is generated\")\n",
    "    "
   ]
  },
  {
   "cell_type": "code",
   "execution_count": 7,
   "metadata": {},
   "outputs": [],
   "source": [
    "fyers = fyersModel.FyersModel(client_id=client_id, token=access_token)\n",
    "is_async = True"
   ]
  },
  {
   "cell_type": "code",
   "execution_count": 8,
   "metadata": {},
   "outputs": [
    {
     "data": {
      "text/plain": [
       "{'s': 'ok',\n",
       " 'code': 200,\n",
       " 'message': '',\n",
       " 'data': {'fy_id': 'XA15265',\n",
       "  'name': 'AIYAZ ANWAR QURESHI',\n",
       "  'image': None,\n",
       "  'display_name': None,\n",
       "  'pin_change_date': '10-10-2022 14:26:53',\n",
       "  'email_id': 'qureshi.aiyaz123@gmail.com',\n",
       "  'pwd_change_date': '10-10-2022 14:31:24',\n",
       "  'PAN': '---------',\n",
       "  'totp': False,\n",
       "  'pwd_to_expire': 150}}"
      ]
     },
     "execution_count": 8,
     "metadata": {},
     "output_type": "execute_result"
    }
   ],
   "source": [
    "fyers.get_profile()"
   ]
  }
 ],
 "metadata": {
  "kernelspec": {
   "display_name": "Python 3.10.2 64-bit",
   "language": "python",
   "name": "python3"
  },
  "language_info": {
   "codemirror_mode": {
    "name": "ipython",
    "version": 3
   },
   "file_extension": ".py",
   "mimetype": "text/x-python",
   "name": "python",
   "nbconvert_exporter": "python",
   "pygments_lexer": "ipython3",
   "version": "3.10.2"
  },
  "orig_nbformat": 4,
  "vscode": {
   "interpreter": {
    "hash": "26de051ba29f2982a8de78e945f0abaf191376122a1563185a90213a26c5da77"
   }
  }
 },
 "nbformat": 4,
 "nbformat_minor": 2
}
