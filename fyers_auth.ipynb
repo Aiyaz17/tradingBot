{
 "cells": [
  {
   "cell_type": "code",
   "execution_count": null,
   "metadata": {},
   "outputs": [],
   "source": [
    "# !pip install fyers-apiv2 python-dotenv \n",
    "from fyers_api import fyersModel\n",
    "from fyers_api import accessToken\n",
    "import os\n",
    "from dotenv import load_dotenv\n",
    "load_dotenv(\"./.env\")\n",
    "import sys"
   ]
  },
  {
   "cell_type": "code",
   "execution_count": null,
   "metadata": {},
   "outputs": [],
   "source": [
    "client_id=os.environ.get('API_CLIENT_ID')\n",
    "secret_key=os.environ.get('API_SECRET_KEY')\n",
    "redirect_uri=os.environ.get('API_REDIRECT_URL')"
   ]
  },
  {
   "cell_type": "code",
   "execution_count": null,
   "metadata": {},
   "outputs": [],
   "source": [
    "session=accessToken.SessionModel(client_id=client_id,\n",
    "secret_key=secret_key,redirect_uri=redirect_uri, \n",
    "response_type='code', grant_type='authorization_code')\n"
   ]
  },
  {
   "cell_type": "code",
   "execution_count": null,
   "metadata": {},
   "outputs": [],
   "source": [
    "auth_code_provider = session.generate_authcode()\n",
    "print(auth_code_provider)"
   ]
  },
  {
   "cell_type": "code",
   "execution_count": null,
   "metadata": {},
   "outputs": [],
   "source": [
    "auth_code=str(input(\"Enter the auth_code: \"))"
   ]
  },
  {
   "cell_type": "code",
   "execution_count": null,
   "metadata": {},
   "outputs": [],
   "source": [
    "session.set_token(auth_code)\n",
    "response = session.generate_token()\n",
    "access_token = response[\"access_token\"]\n",
    "if(access_token is None):\n",
    "    print(\"Access token is not generated\")\n",
    "else:\n",
    "    print(\"Access token is generated\")\n",
    "    "
   ]
  },
  {
   "cell_type": "code",
   "execution_count": null,
   "metadata": {},
   "outputs": [],
   "source": [
    "fyers = fyersModel.FyersModel(client_id=client_id, token=access_token)\n",
    "is_async = True"
   ]
  },
  {
   "cell_type": "code",
   "execution_count": null,
   "metadata": {},
   "outputs": [],
   "source": [
    "fyers.get_profile()"
   ]
  }
 ],
 "metadata": {
  "kernelspec": {
   "display_name": "Python 3.10.2 64-bit",
   "language": "python",
   "name": "python3"
  },
  "language_info": {
   "codemirror_mode": {
    "name": "ipython",
    "version": 3
   },
   "file_extension": ".py",
   "mimetype": "text/x-python",
   "name": "python",
   "nbconvert_exporter": "python",
   "pygments_lexer": "ipython3",
   "version": "3.10.2"
  },
  "orig_nbformat": 4,
  "vscode": {
   "interpreter": {
    "hash": "26de051ba29f2982a8de78e945f0abaf191376122a1563185a90213a26c5da77"
   }
  }
 },
 "nbformat": 4,
 "nbformat_minor": 2
}
