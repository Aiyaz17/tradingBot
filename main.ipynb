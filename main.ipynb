{
 "cells": [
  {
   "cell_type": "code",
   "execution_count": 115,
   "metadata": {},
   "outputs": [],
   "source": [
    "# %run ./fyers_auth.ipynb"
   ]
  },
  {
   "cell_type": "code",
   "execution_count": 116,
   "metadata": {},
   "outputs": [],
   "source": [
    "from tensorflow import keras\n",
    "import sys\n",
    "sys.path.append('./shared')\n",
    "sys.path.append('./strategies')\n",
    "sys.path.append('./sql')\n",
    "from data_fetching_func import dynamicDataFetching,clean_data \n",
    "from ema_crossover import ema_crossover\n",
    "from money_management_rules import already_in_position,check_three_loses\n",
    "import pandas as pd\n",
    "import pandas_ta as ta\n",
    "import datetime as dt\n",
    "import numpy as np\n",
    "from sql_config import connect_db,execute_and_fetch\n",
    "import time\n"
   ]
  },
  {
   "cell_type": "code",
   "execution_count": 117,
   "metadata": {},
   "outputs": [],
   "source": [
    "db = connect_db()\n",
    "cursor = db.cursor()\n",
    "cursor.execute(\"USE tradingbot\")"
   ]
  },
  {
   "cell_type": "markdown",
   "metadata": {},
   "source": [
    "Importing Model"
   ]
  },
  {
   "cell_type": "markdown",
   "metadata": {},
   "source": [
    "# Trend Prediction"
   ]
  },
  {
   "cell_type": "code",
   "execution_count": 118,
   "metadata": {},
   "outputs": [],
   "source": [
    "symbol=\"NSE:TATASTEEL-EQ\""
   ]
  },
  {
   "cell_type": "code",
   "execution_count": 119,
   "metadata": {},
   "outputs": [],
   "source": [
    "def predict_trend():\n",
    "    #fetching data\n",
    "    startDate = (dt.date.today() - dt.timedelta(days = 800)) #last working day\n",
    "    endDate = dt.date.today()\n",
    "    resolution = \"1D\"\n",
    "    trend_df = dynamicDataFetching(fyers,startDate,endDate,symbol,resolution)\n",
    "    clean_data(trend_df)\n",
    "\n",
    "    # Adding indicators\n",
    "    trend_df['RSI']=ta.rsi(trend_df.close, length=15)\n",
    "    trend_df['EMA_20']=ta.ema(trend_df.close, length=20)\n",
    "    trend_df['EMA_100']=ta.ema(trend_df.close, length=100)\n",
    "    trend_df['EMA_150']=ta.ema(trend_df.close, length=150)\n",
    "    trend_df['EMA_200']=ta.ema(trend_df.close, length=200)\n",
    "    trend_df['EMA_500']=ta.ema(trend_df.close, length=500)\n",
    "\n",
    "\n",
    "    # Dropping null values after adding indicators and features\n",
    "    trend_df.dropna(inplace=True)\n",
    "    trend_df.reset_index(inplace = True)\n",
    "    # trend_df.drop(['volume', 'date'], axis=1, inplace=True) # not required\n",
    "    trend_df.drop([ 'date'], axis=1, inplace=True) # not required\n",
    "    trend_df = trend_df.tail(30)\n",
    "\n",
    "    # Scaling\n",
    "    from sklearn.preprocessing import MinMaxScaler\n",
    "    sc = MinMaxScaler(feature_range=(0,1))\n",
    "    data_set_scaled = sc.fit_transform(trend_df)\n",
    "    data_set_scaled = np.reshape(data_set_scaled, (1, 30, 11))\n",
    "\n",
    "    # importing model and predicting\n",
    "    model = keras.models.load_model('./models/lstm_trend_1.0/')\n",
    "    y_pred = model.predict(data_set_scaled)\n",
    "\n",
    "    trend_signal = int(y_pred)\n",
    "    if trend_signal == 0 :\n",
    "        trend_signal = -1 #DOWN TREND\n",
    "    elif trend_signal == 1:\n",
    "        trend_signal = 1 #UP TREND\n",
    "\n",
    "    cursor.execute(f\"INSERT INTO trend VALUES(curdate(),'{symbol}',{trend_signal})\")\n",
    "    db.commit()\n",
    "    return trend_signal\n",
    "\n"
   ]
  },
  {
   "cell_type": "markdown",
   "metadata": {},
   "source": [
    "# Techinal Strategy"
   ]
  },
  {
   "cell_type": "markdown",
   "metadata": {},
   "source": [
    "Data fetching for techinal indicator\n"
   ]
  },
  {
   "cell_type": "code",
   "execution_count": 120,
   "metadata": {},
   "outputs": [],
   "source": [
    "def predict_with_technicals():\n",
    "    startDate = (dt.date.today() - dt.timedelta(days = 1)) #if week day\n",
    "\n",
    "    if  dt.date.today().weekday() == 6: #if sunday\n",
    "        startDate = (dt.date.today() - dt.timedelta(days = 2)) \n",
    "    if dt.date.today().weekday() == 0: #if monday\n",
    "        startDate = (dt.date.today() - dt.timedelta(days = 3)) \n",
    "\n",
    "    endDate = dt.date.today()\n",
    "    # symbol=\"NSE:TATASTEEL-EQ\"\n",
    "    resolution = \"5\"\n",
    "    technical_df = dynamicDataFetching(fyers,startDate,endDate,symbol,resolution)\n",
    "    clean_data(technical_df)\n",
    "    technical_df = technical_df.rename(columns={\"open\":\"Open\",\"low\":\"Low\",\"high\":\"High\",\"close\":\"Close\",\"volume\":\"Volume\"})\n",
    "    technical_signal = ema_crossover(technical_df)\n",
    "    return technical_signal,technical_df\n",
    "    "
   ]
  },
  {
   "cell_type": "code",
   "execution_count": 121,
   "metadata": {},
   "outputs": [
    {
     "name": "stdout",
     "output_type": "stream",
     "text": [
      "Trend already present..\n"
     ]
    },
    {
     "ename": "KeyError",
     "evalue": "'candles'",
     "output_type": "error",
     "traceback": [
      "\u001b[1;31m---------------------------------------------------------------------------\u001b[0m",
      "\u001b[1;31mKeyError\u001b[0m                                  Traceback (most recent call last)",
      "\u001b[1;32md:\\PersonalPlayground\\tradingBot\\main.ipynb Cell 11\u001b[0m in \u001b[0;36m<cell line: 1>\u001b[1;34m()\u001b[0m\n\u001b[0;32m     <a href='vscode-notebook-cell:/d%3A/PersonalPlayground/tradingBot/main.ipynb#X36sZmlsZQ%3D%3D?line=9'>10</a>\u001b[0m     trend_signal \u001b[39m=\u001b[39m predict_trend()\n\u001b[0;32m     <a href='vscode-notebook-cell:/d%3A/PersonalPlayground/tradingBot/main.ipynb#X36sZmlsZQ%3D%3D?line=11'>12</a>\u001b[0m \u001b[39m# get techincal signal\u001b[39;00m\n\u001b[1;32m---> <a href='vscode-notebook-cell:/d%3A/PersonalPlayground/tradingBot/main.ipynb#X36sZmlsZQ%3D%3D?line=12'>13</a>\u001b[0m technical_signal,technical_df \u001b[39m=\u001b[39m predict_with_technicals()\n\u001b[0;32m     <a href='vscode-notebook-cell:/d%3A/PersonalPlayground/tradingBot/main.ipynb#X36sZmlsZQ%3D%3D?line=14'>15</a>\u001b[0m \u001b[39m# compute final signal\u001b[39;00m\n\u001b[0;32m     <a href='vscode-notebook-cell:/d%3A/PersonalPlayground/tradingBot/main.ipynb#X36sZmlsZQ%3D%3D?line=15'>16</a>\u001b[0m final_signal \u001b[39m=\u001b[39m \u001b[39m0\u001b[39m\n",
      "\u001b[1;32md:\\PersonalPlayground\\tradingBot\\main.ipynb Cell 11\u001b[0m in \u001b[0;36mpredict_with_technicals\u001b[1;34m()\u001b[0m\n\u001b[0;32m     <a href='vscode-notebook-cell:/d%3A/PersonalPlayground/tradingBot/main.ipynb#X36sZmlsZQ%3D%3D?line=9'>10</a>\u001b[0m \u001b[39m# symbol=\"NSE:TATASTEEL-EQ\"\u001b[39;00m\n\u001b[0;32m     <a href='vscode-notebook-cell:/d%3A/PersonalPlayground/tradingBot/main.ipynb#X36sZmlsZQ%3D%3D?line=10'>11</a>\u001b[0m resolution \u001b[39m=\u001b[39m \u001b[39m\"\u001b[39m\u001b[39m5\u001b[39m\u001b[39m\"\u001b[39m\n\u001b[1;32m---> <a href='vscode-notebook-cell:/d%3A/PersonalPlayground/tradingBot/main.ipynb#X36sZmlsZQ%3D%3D?line=11'>12</a>\u001b[0m technical_df \u001b[39m=\u001b[39m dynamicDataFetching(fyers,startDate,endDate,symbol,resolution)\n\u001b[0;32m     <a href='vscode-notebook-cell:/d%3A/PersonalPlayground/tradingBot/main.ipynb#X36sZmlsZQ%3D%3D?line=12'>13</a>\u001b[0m clean_data(technical_df)\n\u001b[0;32m     <a href='vscode-notebook-cell:/d%3A/PersonalPlayground/tradingBot/main.ipynb#X36sZmlsZQ%3D%3D?line=13'>14</a>\u001b[0m technical_df \u001b[39m=\u001b[39m technical_df\u001b[39m.\u001b[39mrename(columns\u001b[39m=\u001b[39m{\u001b[39m\"\u001b[39m\u001b[39mopen\u001b[39m\u001b[39m\"\u001b[39m:\u001b[39m\"\u001b[39m\u001b[39mOpen\u001b[39m\u001b[39m\"\u001b[39m,\u001b[39m\"\u001b[39m\u001b[39mlow\u001b[39m\u001b[39m\"\u001b[39m:\u001b[39m\"\u001b[39m\u001b[39mLow\u001b[39m\u001b[39m\"\u001b[39m,\u001b[39m\"\u001b[39m\u001b[39mhigh\u001b[39m\u001b[39m\"\u001b[39m:\u001b[39m\"\u001b[39m\u001b[39mHigh\u001b[39m\u001b[39m\"\u001b[39m,\u001b[39m\"\u001b[39m\u001b[39mclose\u001b[39m\u001b[39m\"\u001b[39m:\u001b[39m\"\u001b[39m\u001b[39mClose\u001b[39m\u001b[39m\"\u001b[39m,\u001b[39m\"\u001b[39m\u001b[39mvolume\u001b[39m\u001b[39m\"\u001b[39m:\u001b[39m\"\u001b[39m\u001b[39mVolume\u001b[39m\u001b[39m\"\u001b[39m})\n",
      "File \u001b[1;32md:\\PersonalPlayground\\tradingBot\\./shared\\data_fetching_func.py:22\u001b[0m, in \u001b[0;36mdynamicDataFetching\u001b[1;34m(fyers, startDate, endDate, symbol, resolution)\u001b[0m\n\u001b[0;32m     20\u001b[0m data \u001b[39m=\u001b[39m {\u001b[39m\"\u001b[39m\u001b[39msymbol\u001b[39m\u001b[39m\"\u001b[39m:symbol,\u001b[39m\"\u001b[39m\u001b[39mresolution\u001b[39m\u001b[39m\"\u001b[39m:resolution,\u001b[39m\"\u001b[39m\u001b[39mdate_format\u001b[39m\u001b[39m\"\u001b[39m:\u001b[39m\"\u001b[39m\u001b[39m1\u001b[39m\u001b[39m\"\u001b[39m,\u001b[39m\"\u001b[39m\u001b[39mrange_from\u001b[39m\u001b[39m\"\u001b[39m:range_from,\u001b[39m\"\u001b[39m\u001b[39mrange_to\u001b[39m\u001b[39m\"\u001b[39m:range_to,\u001b[39m\"\u001b[39m\u001b[39mcont_flag\u001b[39m\u001b[39m\"\u001b[39m:\u001b[39m\"\u001b[39m\u001b[39m1\u001b[39m\u001b[39m\"\u001b[39m}\n\u001b[0;32m     21\u001b[0m res \u001b[39m=\u001b[39m fyers\u001b[39m.\u001b[39mhistory(data)\n\u001b[1;32m---> 22\u001b[0m res \u001b[39m=\u001b[39m res[\u001b[39m\"\u001b[39;49m\u001b[39mcandles\u001b[39;49m\u001b[39m\"\u001b[39;49m]\n\u001b[0;32m     24\u001b[0m \u001b[39m# Converting the data into pandas dataframe \u001b[39;00m\n\u001b[0;32m     25\u001b[0m tempDf \u001b[39m=\u001b[39m pd\u001b[39m.\u001b[39mDataFrame(columns\u001b[39m=\u001b[39m[\u001b[39m\"\u001b[39m\u001b[39mdate\u001b[39m\u001b[39m\"\u001b[39m,\u001b[39m\"\u001b[39m\u001b[39mopen\u001b[39m\u001b[39m\"\u001b[39m,\u001b[39m\"\u001b[39m\u001b[39mhigh\u001b[39m\u001b[39m\"\u001b[39m,\u001b[39m\"\u001b[39m\u001b[39mlow\u001b[39m\u001b[39m\"\u001b[39m,\u001b[39m\"\u001b[39m\u001b[39mclose\u001b[39m\u001b[39m\"\u001b[39m,\u001b[39m\"\u001b[39m\u001b[39mvolume\u001b[39m\u001b[39m\"\u001b[39m])\n",
      "\u001b[1;31mKeyError\u001b[0m: 'candles'"
     ]
    }
   ],
   "source": [
    "while True:\n",
    "    # get trend signal\n",
    "    response = execute_and_fetch(f\"SELECT * FROM trend WHERE prediction_date = curdate() AND stock_name = '{symbol}'\",cursor)\n",
    "    trend_signal = 0\n",
    "    if len(response)>0:\n",
    "        print(\"Trend already present..\")\n",
    "        trend_signal = response[0][-1]\n",
    "    else:\n",
    "        print(\"Trend Not present, starting predicting.\")\n",
    "        trend_signal = predict_trend()\n",
    "\n",
    "    # get techincal signal\n",
    "    technical_signal,technical_df = predict_with_technicals()\n",
    "\n",
    "    # compute final signal\n",
    "    final_signal = 0\n",
    "    if trend_signal == 1 and technical_signal == 1:\n",
    "        final_signal = 1 #BUY\n",
    "    elif trend_signal == -1 and technical_signal == -1:\n",
    "        final_signal = -1 #SELL\n",
    "\n",
    "    # Check money management rules\n",
    "    positions = fyers.positions()\n",
    "    #  check if already in position or more than 3 trade in loss\n",
    "    can_trade = (already_in_position(positions)==False) and (check_three_loses(positions)==False)\n",
    "\n",
    "    # Take trades\n",
    "    if can_trade & final_signal != 0:\n",
    "        stop_loss = 2*technical_df.ATR[-1]\n",
    "        target = 2*stop_loss\n",
    "        data = {\n",
    "            \"symbol\":symbol,\n",
    "            \"qty\":1,\n",
    "            \"type\":2,\n",
    "            \"side\":final_signal,\n",
    "            \"productType\":\"BO\",\n",
    "            \"limitPrice\":0,\n",
    "            \"stopPrice\":0,\n",
    "            \"validity\":\"DAY\",\n",
    "            \"disclosedQty\":0,\n",
    "            \"offlineOrder\":\"False\",\n",
    "            \"stopLoss\":stop_loss,\n",
    "            \"takeProfit\":target\n",
    "        }\n",
    "        resp = fyers.place_order(data)\n",
    "        # if resp[\"code\"] == 1101:\n",
    "        print(\"Order placed successfully\")\n",
    "        curr_price = fyers.quotes({\"symbols\":symbol})\n",
    "        curr_price = curr_price[\"d\"][0][\"v\"][\"lp\"]\n",
    "        absolute_target = curr_price \n",
    "        absolute_sl = curr_price\n",
    "        if final_signal == 1:\n",
    "            absolute_target = curr_price+target\n",
    "            absolute_sl = curr_price-target\n",
    "        elif final_signal == -1:\n",
    "            absolute_target = curr_price-target\n",
    "            absolute_sl = curr_price+target\n",
    "        \n",
    "        # storing in db \n",
    "        cursor.execute(f\"\"\"INSERT INTO tradebook VALUES\n",
    "        (NOW(),'{symbol}',{curr_price},{absolute_target},{absolute_sl},{final_signal})\n",
    "        \"\"\")\n",
    "        db.commit()\n",
    "        # else:\n",
    "        #     print(\"Order not placed successfully\")\n",
    "    else :\n",
    "        print(\"No trade - can_trade & final_signal\")\n",
    "\n",
    "    # wait for 5 mins\n",
    "    time.sleep(300)"
   ]
  }
 ],
 "metadata": {
  "kernelspec": {
   "display_name": "Python 3.10.2 64-bit",
   "language": "python",
   "name": "python3"
  },
  "language_info": {
   "codemirror_mode": {
    "name": "ipython",
    "version": 3
   },
   "file_extension": ".py",
   "mimetype": "text/x-python",
   "name": "python",
   "nbconvert_exporter": "python",
   "pygments_lexer": "ipython3",
   "version": "3.10.2"
  },
  "orig_nbformat": 4,
  "vscode": {
   "interpreter": {
    "hash": "26de051ba29f2982a8de78e945f0abaf191376122a1563185a90213a26c5da77"
   }
  }
 },
 "nbformat": 4,
 "nbformat_minor": 2
}
