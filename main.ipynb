{
 "cells": [
  {
   "cell_type": "code",
   "execution_count": null,
   "metadata": {},
   "outputs": [],
   "source": [
    "%run ./fyers_auth.ipynb"
   ]
  },
  {
   "cell_type": "code",
   "execution_count": null,
   "metadata": {},
   "outputs": [],
   "source": [
    "from tensorflow import keras\n",
    "import sys\n",
    "sys.path.append('./shared')\n",
    "sys.path.append('./strategies')\n",
    "from data_fetching_func import dynamicDataFetching,clean_data \n",
    "from ema_crossover import ema_crossover\n",
    "import pandas as pd\n",
    "import pandas_ta as ta\n",
    "import datetime as dt\n",
    "import numpy as np"
   ]
  },
  {
   "cell_type": "markdown",
   "metadata": {},
   "source": [
    "Importing Model"
   ]
  },
  {
   "cell_type": "code",
   "execution_count": null,
   "metadata": {},
   "outputs": [
    {
     "name": "stdout",
     "output_type": "stream",
     "text": [
      "Model: \"sequential_3\"\n",
      "_________________________________________________________________\n",
      " Layer (type)                Output Shape              Param #   \n",
      "=================================================================\n",
      " first_layer (LSTM)          (None, 150)               97200     \n",
      "                                                                 \n",
      " dense_layer (Dense)         (None, 1)                 151       \n",
      "                                                                 \n",
      "=================================================================\n",
      "Total params: 97,351\n",
      "Trainable params: 97,351\n",
      "Non-trainable params: 0\n",
      "_________________________________________________________________\n"
     ]
    }
   ],
   "source": [
    "model = keras.models.load_model('./models/lstm_trend_1.0/')\n",
    "model.summary()"
   ]
  },
  {
   "cell_type": "markdown",
   "metadata": {},
   "source": [
    "# Trade plan"
   ]
  },
  {
   "cell_type": "markdown",
   "metadata": {},
   "source": [
    "\n",
    "- Get trend_df and predict trend (once a day only)\n",
    "- Get trend_df and predict using technical strategy\n",
    "- check - 1) already in position, \n",
    "          2) money management rules\n",
    "- take trade...\n"
   ]
  },
  {
   "cell_type": "markdown",
   "metadata": {},
   "source": [
    "# Notes\n",
    "\n",
    "- Sl and target will placed as bracket order\n",
    "- while loop to check every 5min for opportunity\n",
    "- run model and store trend in db\n",
    "- search in db, if trend_df not found then only run model, else retrieve from db\n",
    "- store all tradebook in db datewise"
   ]
  },
  {
   "cell_type": "markdown",
   "metadata": {},
   "source": [
    "# Money management Rules\n",
    "\n",
    "- 3 consecutive loss = done for the day\n"
   ]
  },
  {
   "cell_type": "markdown",
   "metadata": {},
   "source": [
    "0 = no trade\n",
    "\n",
    "1 = sell\n",
    "\n",
    "2 = buy"
   ]
  },
  {
   "cell_type": "markdown",
   "metadata": {},
   "source": [
    "# Trend Prediction"
   ]
  },
  {
   "cell_type": "code",
   "execution_count": null,
   "metadata": {},
   "outputs": [],
   "source": [
    "startDate = dt.date(2020,1,20) #last working day\n",
    "endDate = dt.date.today()\n",
    "symbol=\"NSE:TATASTEEL-EQ\"\n",
    "resolution = \"1D\"\n",
    "trend_df = dynamicDataFetching(fyers,startDate,endDate,symbol,resolution)\n",
    "clean_data(trend_df)"
   ]
  },
  {
   "cell_type": "code",
   "execution_count": null,
   "metadata": {},
   "outputs": [
    {
     "data": {
      "text/plain": [
       "(686, 5)"
      ]
     },
     "execution_count": 7,
     "metadata": {},
     "output_type": "execute_result"
    }
   ],
   "source": [
    "trend_df.shape"
   ]
  },
  {
   "cell_type": "code",
   "execution_count": null,
   "metadata": {},
   "outputs": [
    {
     "data": {
      "text/html": [
       "<div>\n",
       "<style scoped>\n",
       "    .dataframe tbody tr th:only-of-type {\n",
       "        vertical-align: middle;\n",
       "    }\n",
       "\n",
       "    .dataframe tbody tr th {\n",
       "        vertical-align: top;\n",
       "    }\n",
       "\n",
       "    .dataframe thead th {\n",
       "        text-align: right;\n",
       "    }\n",
       "</style>\n",
       "<table border=\"1\" class=\"dataframe\">\n",
       "  <thead>\n",
       "    <tr style=\"text-align: right;\">\n",
       "      <th></th>\n",
       "      <th>open</th>\n",
       "      <th>high</th>\n",
       "      <th>low</th>\n",
       "      <th>close</th>\n",
       "      <th>volume</th>\n",
       "    </tr>\n",
       "    <tr>\n",
       "      <th>date</th>\n",
       "      <th></th>\n",
       "      <th></th>\n",
       "      <th></th>\n",
       "      <th></th>\n",
       "      <th></th>\n",
       "    </tr>\n",
       "  </thead>\n",
       "  <tbody>\n",
       "    <tr>\n",
       "      <th>2022-10-14 05:30:00+05:30</th>\n",
       "      <td>101.85</td>\n",
       "      <td>102.80</td>\n",
       "      <td>99.9</td>\n",
       "      <td>100.10</td>\n",
       "      <td>32456805.0</td>\n",
       "    </tr>\n",
       "    <tr>\n",
       "      <th>2022-10-17 05:30:00+05:30</th>\n",
       "      <td>99.75</td>\n",
       "      <td>100.40</td>\n",
       "      <td>98.1</td>\n",
       "      <td>99.55</td>\n",
       "      <td>37568783.0</td>\n",
       "    </tr>\n",
       "    <tr>\n",
       "      <th>2022-10-18 05:30:00+05:30</th>\n",
       "      <td>100.30</td>\n",
       "      <td>101.00</td>\n",
       "      <td>99.8</td>\n",
       "      <td>100.65</td>\n",
       "      <td>30722156.0</td>\n",
       "    </tr>\n",
       "    <tr>\n",
       "      <th>2022-10-19 05:30:00+05:30</th>\n",
       "      <td>100.60</td>\n",
       "      <td>101.25</td>\n",
       "      <td>99.7</td>\n",
       "      <td>100.05</td>\n",
       "      <td>38764542.0</td>\n",
       "    </tr>\n",
       "    <tr>\n",
       "      <th>2022-10-20 05:30:00+05:30</th>\n",
       "      <td>99.50</td>\n",
       "      <td>101.20</td>\n",
       "      <td>98.8</td>\n",
       "      <td>100.90</td>\n",
       "      <td>38091315.0</td>\n",
       "    </tr>\n",
       "  </tbody>\n",
       "</table>\n",
       "</div>"
      ],
      "text/plain": [
       "                             open    high   low   close      volume\n",
       "date                                                               \n",
       "2022-10-14 05:30:00+05:30  101.85  102.80  99.9  100.10  32456805.0\n",
       "2022-10-17 05:30:00+05:30   99.75  100.40  98.1   99.55  37568783.0\n",
       "2022-10-18 05:30:00+05:30  100.30  101.00  99.8  100.65  30722156.0\n",
       "2022-10-19 05:30:00+05:30  100.60  101.25  99.7  100.05  38764542.0\n",
       "2022-10-20 05:30:00+05:30   99.50  101.20  98.8  100.90  38091315.0"
      ]
     },
     "execution_count": 89,
     "metadata": {},
     "output_type": "execute_result"
    }
   ],
   "source": [
    "trend_df.tail()"
   ]
  },
  {
   "cell_type": "code",
   "execution_count": null,
   "metadata": {},
   "outputs": [],
   "source": [
    "# Adding indicators\n",
    "trend_df['RSI']=ta.rsi(trend_df.close, length=15)\n",
    "trend_df['EMA_20']=ta.ema(trend_df.close, length=20)\n",
    "trend_df['EMA_100']=ta.ema(trend_df.close, length=100)\n",
    "trend_df['EMA_150']=ta.ema(trend_df.close, length=150)\n",
    "trend_df['EMA_200']=ta.ema(trend_df.close, length=200)\n",
    "trend_df['EMA_500']=ta.ema(trend_df.close, length=500)\n",
    "\n",
    "\n",
    "# Dropping null values after adding indicators and features\n",
    "trend_df.dropna(inplace=True)\n",
    "trend_df.reset_index(inplace = True)\n",
    "# trend_df.drop(['volume', 'date'], axis=1, inplace=True) # not required\n",
    "trend_df.drop([ 'date'], axis=1, inplace=True) # not required"
   ]
  },
  {
   "cell_type": "code",
   "execution_count": null,
   "metadata": {},
   "outputs": [
    {
     "data": {
      "text/html": [
       "<div>\n",
       "<style scoped>\n",
       "    .dataframe tbody tr th:only-of-type {\n",
       "        vertical-align: middle;\n",
       "    }\n",
       "\n",
       "    .dataframe tbody tr th {\n",
       "        vertical-align: top;\n",
       "    }\n",
       "\n",
       "    .dataframe thead th {\n",
       "        text-align: right;\n",
       "    }\n",
       "</style>\n",
       "<table border=\"1\" class=\"dataframe\">\n",
       "  <thead>\n",
       "    <tr style=\"text-align: right;\">\n",
       "      <th></th>\n",
       "      <th>open</th>\n",
       "      <th>high</th>\n",
       "      <th>low</th>\n",
       "      <th>close</th>\n",
       "      <th>volume</th>\n",
       "      <th>RSI</th>\n",
       "      <th>EMA_20</th>\n",
       "      <th>EMA_100</th>\n",
       "      <th>EMA_150</th>\n",
       "      <th>EMA_200</th>\n",
       "      <th>EMA_500</th>\n",
       "    </tr>\n",
       "  </thead>\n",
       "  <tbody>\n",
       "    <tr>\n",
       "      <th>182</th>\n",
       "      <td>101.85</td>\n",
       "      <td>102.80</td>\n",
       "      <td>99.9</td>\n",
       "      <td>100.10</td>\n",
       "      <td>32456805.0</td>\n",
       "      <td>44.639713</td>\n",
       "      <td>101.718845</td>\n",
       "      <td>104.664759</td>\n",
       "      <td>106.781093</td>\n",
       "      <td>107.821726</td>\n",
       "      <td>93.037523</td>\n",
       "    </tr>\n",
       "    <tr>\n",
       "      <th>183</th>\n",
       "      <td>99.75</td>\n",
       "      <td>100.40</td>\n",
       "      <td>98.1</td>\n",
       "      <td>99.55</td>\n",
       "      <td>37568783.0</td>\n",
       "      <td>43.463089</td>\n",
       "      <td>101.512288</td>\n",
       "      <td>104.563477</td>\n",
       "      <td>106.685317</td>\n",
       "      <td>107.739421</td>\n",
       "      <td>93.063521</td>\n",
       "    </tr>\n",
       "    <tr>\n",
       "      <th>184</th>\n",
       "      <td>100.30</td>\n",
       "      <td>101.00</td>\n",
       "      <td>99.8</td>\n",
       "      <td>100.65</td>\n",
       "      <td>30722156.0</td>\n",
       "      <td>46.485680</td>\n",
       "      <td>101.430165</td>\n",
       "      <td>104.485982</td>\n",
       "      <td>106.605379</td>\n",
       "      <td>107.668879</td>\n",
       "      <td>93.093806</td>\n",
       "    </tr>\n",
       "    <tr>\n",
       "      <th>185</th>\n",
       "      <td>100.60</td>\n",
       "      <td>101.25</td>\n",
       "      <td>99.7</td>\n",
       "      <td>100.05</td>\n",
       "      <td>38764542.0</td>\n",
       "      <td>45.077278</td>\n",
       "      <td>101.298721</td>\n",
       "      <td>104.398141</td>\n",
       "      <td>106.518553</td>\n",
       "      <td>107.593069</td>\n",
       "      <td>93.121575</td>\n",
       "    </tr>\n",
       "    <tr>\n",
       "      <th>186</th>\n",
       "      <td>99.50</td>\n",
       "      <td>101.20</td>\n",
       "      <td>98.8</td>\n",
       "      <td>100.90</td>\n",
       "      <td>38091315.0</td>\n",
       "      <td>47.491982</td>\n",
       "      <td>101.260748</td>\n",
       "      <td>104.328871</td>\n",
       "      <td>106.444135</td>\n",
       "      <td>107.526472</td>\n",
       "      <td>93.152627</td>\n",
       "    </tr>\n",
       "  </tbody>\n",
       "</table>\n",
       "</div>"
      ],
      "text/plain": [
       "       open    high   low   close      volume        RSI      EMA_20  \\\n",
       "182  101.85  102.80  99.9  100.10  32456805.0  44.639713  101.718845   \n",
       "183   99.75  100.40  98.1   99.55  37568783.0  43.463089  101.512288   \n",
       "184  100.30  101.00  99.8  100.65  30722156.0  46.485680  101.430165   \n",
       "185  100.60  101.25  99.7  100.05  38764542.0  45.077278  101.298721   \n",
       "186   99.50  101.20  98.8  100.90  38091315.0  47.491982  101.260748   \n",
       "\n",
       "        EMA_100     EMA_150     EMA_200    EMA_500  \n",
       "182  104.664759  106.781093  107.821726  93.037523  \n",
       "183  104.563477  106.685317  107.739421  93.063521  \n",
       "184  104.485982  106.605379  107.668879  93.093806  \n",
       "185  104.398141  106.518553  107.593069  93.121575  \n",
       "186  104.328871  106.444135  107.526472  93.152627  "
      ]
     },
     "execution_count": 9,
     "metadata": {},
     "output_type": "execute_result"
    }
   ],
   "source": [
    "trend_df = trend_df.tail(30)\n",
    "trend_df.tail()\n"
   ]
  },
  {
   "cell_type": "code",
   "execution_count": null,
   "metadata": {},
   "outputs": [
    {
     "data": {
      "text/plain": [
       "(30, 11)"
      ]
     },
     "execution_count": 10,
     "metadata": {},
     "output_type": "execute_result"
    }
   ],
   "source": [
    "trend_df.shape"
   ]
  },
  {
   "cell_type": "code",
   "execution_count": null,
   "metadata": {},
   "outputs": [
    {
     "name": "stdout",
     "output_type": "stream",
     "text": [
      "[[0.97933884 0.84063745 0.8247012  0.76344086 0.51245604 0.72822351\n",
      "  0.92994796 0.94214621 1.         1.         0.        ]\n",
      " [0.86363636 0.75697211 0.83665339 0.75268817 0.41654363 0.71518736\n",
      "  0.91594312 0.93682156 0.98205646 0.98017023 0.04917367]\n",
      " [0.84710744 0.80478088 0.91633466 0.89964158 0.12798515 0.88565673\n",
      "  0.93770386 0.95153483 0.97729439 0.97162637 0.10553285]\n",
      " [0.94628099 0.86454183 1.         0.89964158 0.17025133 0.88565673\n",
      "  0.95739215 0.96595675 0.97259538 0.96316753 0.16166705]\n",
      " [0.80578512 1.         0.86055777 1.         0.70414154 1.\n",
      "  0.99871974 0.99370552 0.97679828 0.96236556 0.2226184 ]\n",
      " [1.         0.88844622 0.91633466 0.84587814 0.40742996 0.78354788\n",
      "  1.         1.         0.96737032 0.94994206 0.27558452]\n",
      " [0.79752066 0.7689243  0.79681275 0.75268817 0.97724979 0.6639081\n",
      "  0.97932354 0.99352973 0.94985896 0.93061037 0.32365806]\n",
      " [0.79752066 0.66533865 0.6374502  0.56630824 0.25839502 0.44892375\n",
      "  0.9169467  0.96190736 0.91616303 0.89740744 0.36217738]\n",
      " [0.6322314  0.67729084 0.71713147 0.75985663 0.27096643 0.69314832\n",
      "  0.90585968 0.95716372 0.89996132 0.8791394  0.41026532]\n",
      " [0.76446281 0.74501992 0.74103586 0.66308244 0.19509123 0.58367597\n",
      "  0.87315398 0.93938774 0.87545024 0.85375087 0.4533001 ]\n",
      " [0.65289256 0.5936255  0.67729084 0.60215054 0.38786516 0.5164095\n",
      "  0.82928651 0.91369907 0.84589687 0.82401725 0.49310233]\n",
      " [0.79752066 0.80079681 0.69721116 0.65232975 1.         0.58309258\n",
      "  0.8013541  0.89532531 0.82115477 0.79836584 0.53526628]\n",
      " [0.64876033 0.52589641 0.27888446 0.33333333 0.89279862 0.25914133\n",
      "  0.70133976 0.8340473  0.76864288 0.74889927 0.56123798]\n",
      " [0.39669421 0.27888446 0.11952191 0.17562724 0.93906525 0.12914784\n",
      "  0.57389941 0.75259177 0.7029356  0.68802495 0.57918405]\n",
      " [0.         0.         0.         0.         0.51872729 0.\n",
      "  0.41744607 0.64892747 0.62262921 0.61450409 0.58823631]\n",
      " [0.03719008 0.03187251 0.11155378 0.11827957 0.38159353 0.16567295\n",
      "  0.30360643 0.56335915 0.55380465 0.55063977 0.6031939 ]\n",
      " [0.02479339 0.20318725 0.05577689 0.29390681 0.45183376 0.39090476\n",
      "  0.24175884 0.503307   0.50136109 0.50066315 0.62691394]\n",
      " [0.25206612 0.14342629 0.23904382 0.22580645 0.08299441 0.3307884\n",
      "  0.1698453  0.43520699 0.44361381 0.44604518 0.64711845]\n",
      " [0.30991736 0.29083665 0.39840637 0.4265233  0.11973865 0.57002306\n",
      "  0.15180944 0.39568036 0.40431071 0.4071161  0.67732479]\n",
      " [0.45041322 0.47410359 0.53784861 0.59856631 0.22072889 0.75059023\n",
      "  0.17580166 0.38027201 0.3806819  0.38155615 0.71605266]\n",
      " [0.55785124 0.4501992  0.5498008  0.58064516 0.06779467 0.73135808\n",
      "  0.19330991 0.362738   0.35578755 0.35489826 0.75372571]\n",
      " [0.45041322 0.4501992  0.49003984 0.5734767  0.07488445 0.7232263\n",
      "  0.2074711  0.34457887 0.33059151 0.32796472 0.79088829]\n",
      " [0.5785124  0.46215139 0.38247012 0.36917563 0.13108726 0.50298084\n",
      "  0.17241504 0.29906832 0.28773416 0.2858833  0.81763998]\n",
      " [0.31404959 0.26693227 0.3187251  0.38351254 0.13455036 0.52080826\n",
      "  0.14405685 0.2564036  0.24670727 0.24530242 0.84500506]\n",
      " [0.37603306 0.31474104 0.30278884 0.35125448 0.04992117 0.48588269\n",
      "  0.11084125 0.21020831 0.20338247 0.20269124 0.8706405 ]\n",
      " [0.43801653 0.39442231 0.39043825 0.35125448 0.02194554 0.48588269\n",
      "  0.08078903 0.16492777 0.1606315  0.16050406 0.8961736 ]\n",
      " [0.26446281 0.20318725 0.24701195 0.31182796 0.08661862 0.43909218\n",
      "  0.04436114 0.11519614 0.11497404 0.11576165 0.91962428]\n",
      " [0.30991736 0.25099602 0.38247012 0.390681   0.         0.55929084\n",
      "  0.02987816 0.07714477 0.07686677 0.07741443 0.94694232]\n",
      " [0.33471074 0.27091633 0.37450199 0.34767025 0.1017465  0.50328323\n",
      "  0.00669691 0.03401299 0.0354758  0.03620333 0.97199078]\n",
      " [0.24380165 0.26693227 0.30278884 0.40860215 0.09322932 0.59930824\n",
      "  0.         0.         0.         0.         1.        ]]\n"
     ]
    }
   ],
   "source": [
    "# Scaling\n",
    "from sklearn.preprocessing import MinMaxScaler\n",
    "sc = MinMaxScaler(feature_range=(0,1))\n",
    "data_set_scaled = sc.fit_transform(trend_df)\n",
    "print(data_set_scaled)"
   ]
  },
  {
   "cell_type": "code",
   "execution_count": null,
   "metadata": {},
   "outputs": [],
   "source": [
    "data_set_scaled = np.reshape(data_set_scaled, (1, 30, 11))"
   ]
  },
  {
   "cell_type": "code",
   "execution_count": null,
   "metadata": {},
   "outputs": [
    {
     "data": {
      "text/plain": [
       "(1, 30, 11)"
      ]
     },
     "execution_count": 13,
     "metadata": {},
     "output_type": "execute_result"
    }
   ],
   "source": [
    "data_set_scaled.shape"
   ]
  },
  {
   "cell_type": "code",
   "execution_count": null,
   "metadata": {},
   "outputs": [
    {
     "name": "stdout",
     "output_type": "stream",
     "text": [
      "1/1 [==============================] - 0s 356ms/step\n"
     ]
    },
    {
     "data": {
      "text/plain": [
       "(1, 1)"
      ]
     },
     "execution_count": 14,
     "metadata": {},
     "output_type": "execute_result"
    }
   ],
   "source": [
    "y_pred = model.predict(data_set_scaled)\n",
    "y_pred.shape"
   ]
  },
  {
   "cell_type": "code",
   "execution_count": 19,
   "metadata": {},
   "outputs": [],
   "source": [
    "trend_signal = int(y_pred)\n",
    "if trend_signal == 0 :\n",
    "    trend = 1\n",
    "elif trend_signal == 1:\n",
    "    trend = 2"
   ]
  },
  {
   "cell_type": "markdown",
   "metadata": {},
   "source": [
    "# Techinal Strategy"
   ]
  },
  {
   "cell_type": "markdown",
   "metadata": {},
   "source": [
    "Data fetching for techinal indicator\n"
   ]
  },
  {
   "cell_type": "code",
   "execution_count": 13,
   "metadata": {},
   "outputs": [],
   "source": [
    "startDate = dt.date(2022,10,19) #last working day\n",
    "endDate = dt.date.today()\n",
    "# symbol=\"NSE:TATASTEEL-EQ\"\n",
    "resolution = \"5\"\n",
    "technical_df = dynamicDataFetching(fyers,startDate,endDate,symbol,resolution)\n",
    "clean_data(technical_df)\n",
    "df = technical_df.rename(columns={\"open\":\"Open\",\"low\":\"Low\",\"high\":\"High\",\"close\":\"Close\",\"volume\":\"Volume\"})"
   ]
  },
  {
   "cell_type": "code",
   "execution_count": 14,
   "metadata": {},
   "outputs": [
    {
     "data": {
      "text/plain": [
       "0"
      ]
     },
     "execution_count": 14,
     "metadata": {},
     "output_type": "execute_result"
    }
   ],
   "source": [
    "technical_signal = ema_crossover(technical_df)"
   ]
  },
  {
   "cell_type": "markdown",
   "metadata": {},
   "source": [
    "Now we have both trend_signal and technical_signal, we can have final singal"
   ]
  },
  {
   "cell_type": "code",
   "execution_count": 23,
   "metadata": {},
   "outputs": [],
   "source": [
    "\n",
    "final_signal = 0\n",
    "if trend_signal == 2 and technical_signal == 2:\n",
    "  final_signal = 1\n",
    "elif trend_signal == 1 and technical_signal == 1:\n",
    "  final_signal = -1"
   ]
  },
  {
   "cell_type": "code",
   "execution_count": 56,
   "metadata": {},
   "outputs": [],
   "source": [
    "#  check if already in position\n",
    "def already_in_position(positions):\n",
    "    if len(positions[\"netPositions\"]) == 0: return False\n",
    "    for position in positions[\"netPositions\"]:\n",
    "        pos_symbol = position[\"symbol\"]  # NSE:SBIN-EQ\n",
    "        side =  position[\"side\"]  # 1 for long, -1 for short, and 0 for closed\n",
    "\n",
    "        if pos_symbol == symbol and side == final_signal:\n",
    "            return True\n",
    "        else:\n",
    "            return False\n",
    "    "
   ]
  },
  {
   "cell_type": "code",
   "execution_count": 60,
   "metadata": {},
   "outputs": [],
   "source": [
    "#  check if done for the day or not\n",
    "def check_three_loses(positions):\n",
    "    if len(positions[\"netPositions\"]) == 0: return False\n",
    "    for position in positions[\"netPositions\"]:\n",
    "        count = 0\n",
    "        if position[\"side\"] == 0:\n",
    "            if position[\"pl\"] < 0:\n",
    "                count= count+1\n",
    "    return count>=3"
   ]
  },
  {
   "cell_type": "code",
   "execution_count": 61,
   "metadata": {},
   "outputs": [],
   "source": [
    "positions = fyers.positions()\n",
    "can_trade = (already_in_position(positions)==False) and (check_three_loses(positions)==False)\n",
    "\n",
    "# Taking trades\n",
    "if can_trade:\n",
    "    stop_loss = 2*technical_df.ATR[-1]\n",
    "    target = 2*stop_loss\n",
    "    data = {\n",
    "        \"symbol\":symbol,\n",
    "        \"qty\":1,\n",
    "        \"type\":2,\n",
    "        \"side\":final_signal,\n",
    "        \"productType\":\"BO\",\n",
    "        \"limitPrice\":0,\n",
    "        \"stopPrice\":0,\n",
    "        \"validity\":\"DAY\",\n",
    "        \"disclosedQty\":0,\n",
    "        \"offlineOrder\":\"False\",\n",
    "        \"stopLoss\":stop_loss,\n",
    "        \"takeProfit\":target\n",
    "    }\n",
    "    fyers.place_order(data)a"
   ]
  }
 ],
 "metadata": {
  "kernelspec": {
   "display_name": "Python 3.10.2 64-bit",
   "language": "python",
   "name": "python3"
  },
  "language_info": {
   "codemirror_mode": {
    "name": "ipython",
    "version": 3
   },
   "file_extension": ".py",
   "mimetype": "text/x-python",
   "name": "python",
   "nbconvert_exporter": "python",
   "pygments_lexer": "ipython3",
   "version": "3.10.2"
  },
  "orig_nbformat": 4,
  "vscode": {
   "interpreter": {
    "hash": "26de051ba29f2982a8de78e945f0abaf191376122a1563185a90213a26c5da77"
   }
  }
 },
 "nbformat": 4,
 "nbformat_minor": 2
}
