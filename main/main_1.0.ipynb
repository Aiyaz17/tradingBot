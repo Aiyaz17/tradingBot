{
 "cells": [
  {
   "cell_type": "code",
   "execution_count": null,
   "metadata": {},
   "outputs": [],
   "source": [
    "# %run ./fyers_auth.ipynb"
   ]
  },
  {
   "cell_type": "code",
   "execution_count": null,
   "metadata": {},
   "outputs": [],
   "source": [
    "from tensorflow import keras\n",
    "import sys\n",
    "sys.path.append('./shared')\n",
    "sys.path.append('./strategies')\n",
    "sys.path.append('./sql')\n",
    "from data_fetching_func import dynamicDataFetching,clean_data \n",
    "from ema_crossover import ema_crossover\n",
    "from money_management_rules import already_in_position,check_three_loses\n",
    "import pandas as pd\n",
    "import pandas_ta as ta\n",
    "import datetime as dt\n",
    "import numpy as np\n",
    "from sql_config import connect_db,execute_and_fetch"
   ]
  },
  {
   "cell_type": "code",
   "execution_count": null,
   "metadata": {},
   "outputs": [],
   "source": [
    "db = connect_db()\n",
    "cursor = db.cursor()\n",
    "cursor.execute(\"USE tradingbot\")"
   ]
  },
  {
   "cell_type": "markdown",
   "metadata": {},
   "source": [
    "Importing Model"
   ]
  },
  {
   "cell_type": "markdown",
   "metadata": {},
   "source": [
    "# Trend Prediction"
   ]
  },
  {
   "cell_type": "code",
   "execution_count": null,
   "metadata": {},
   "outputs": [],
   "source": [
    "startDate = (dt.date.today() - dt.timedelta(days = 800)) #last working day\n",
    "endDate = dt.date.today()\n",
    "resolution = \"1D\"\n",
    "trend_df = dynamicDataFetching(fyers,startDate,endDate,symbol,resolution)\n",
    "clean_data(trend_df)"
   ]
  },
  {
   "cell_type": "code",
   "execution_count": null,
   "metadata": {},
   "outputs": [],
   "source": [
    "trend_df.shape"
   ]
  },
  {
   "cell_type": "code",
   "execution_count": null,
   "metadata": {},
   "outputs": [],
   "source": [
    "trend_df.tail()"
   ]
  },
  {
   "cell_type": "code",
   "execution_count": null,
   "metadata": {},
   "outputs": [],
   "source": [
    "# Adding indicators\n",
    "trend_df['RSI']=ta.rsi(trend_df.close, length=15)\n",
    "trend_df['EMA_20']=ta.ema(trend_df.close, length=20)\n",
    "trend_df['EMA_100']=ta.ema(trend_df.close, length=100)\n",
    "trend_df['EMA_150']=ta.ema(trend_df.close, length=150)\n",
    "trend_df['EMA_200']=ta.ema(trend_df.close, length=200)\n",
    "trend_df['EMA_500']=ta.ema(trend_df.close, length=500)\n",
    "\n",
    "\n",
    "# Dropping null values after adding indicators and features\n",
    "trend_df.dropna(inplace=True)\n",
    "trend_df.reset_index(inplace = True)\n",
    "# trend_df.drop(['volume', 'date'], axis=1, inplace=True) # not required\n",
    "trend_df.drop([ 'date'], axis=1, inplace=True) # not required"
   ]
  },
  {
   "cell_type": "code",
   "execution_count": null,
   "metadata": {},
   "outputs": [],
   "source": [
    "trend_df = trend_df.tail(30)\n",
    "trend_df.tail()\n"
   ]
  },
  {
   "cell_type": "code",
   "execution_count": null,
   "metadata": {},
   "outputs": [],
   "source": [
    "trend_df.shape"
   ]
  },
  {
   "cell_type": "code",
   "execution_count": null,
   "metadata": {},
   "outputs": [],
   "source": [
    "# Scaling\n",
    "from sklearn.preprocessing import MinMaxScaler\n",
    "sc = MinMaxScaler(feature_range=(0,1))\n",
    "data_set_scaled = sc.fit_transform(trend_df)\n",
    "print(data_set_scaled)"
   ]
  },
  {
   "cell_type": "code",
   "execution_count": null,
   "metadata": {},
   "outputs": [],
   "source": [
    "data_set_scaled = np.reshape(data_set_scaled, (1, 30, 11))"
   ]
  },
  {
   "cell_type": "code",
   "execution_count": null,
   "metadata": {},
   "outputs": [],
   "source": [
    "data_set_scaled.shape"
   ]
  },
  {
   "cell_type": "code",
   "execution_count": null,
   "metadata": {},
   "outputs": [],
   "source": [
    "model = keras.models.load_model('./models/lstm_trend_1.0/')\n",
    "model.summary()"
   ]
  },
  {
   "cell_type": "code",
   "execution_count": null,
   "metadata": {},
   "outputs": [],
   "source": [
    "y_pred = model.predict(data_set_scaled)\n",
    "y_pred.shape"
   ]
  },
  {
   "cell_type": "code",
   "execution_count": null,
   "metadata": {},
   "outputs": [],
   "source": [
    "trend_signal = int(y_pred)\n",
    "if trend_signal == 0 :\n",
    "    trend_signal = -1 #DOWN TREND\n",
    "elif trend_signal == 1:\n",
    "    trend_signal = 1 #UP TREND\n",
    "\n",
    "cursor.execute(f\"INSERT INTO trend VALUES(curdate(),'{symbol}',{trend_signal})\")\n",
    "db.commit()\n",
    "# TODO - store in some kind of db then retrieve afterwards when required"
   ]
  },
  {
   "cell_type": "markdown",
   "metadata": {},
   "source": [
    "# Techinal Strategy"
   ]
  },
  {
   "cell_type": "markdown",
   "metadata": {},
   "source": [
    "Data fetching for techinal indicator\n"
   ]
  },
  {
   "cell_type": "code",
   "execution_count": null,
   "metadata": {},
   "outputs": [],
   "source": [
    "\n",
    "startDate = (dt.date.today() - dt.timedelta(days = 1)) #if week day\n",
    "\n",
    "if  dt.date.today().weekday() == 6: #if sunday\n",
    "    startDate = (dt.date.today() - dt.timedelta(days = 2)) \n",
    "if dt.date.today().weekday() == 0: #if monday\n",
    "    startDate = (dt.date.today() - dt.timedelta(days = 3)) \n",
    "\n",
    "endDate = dt.date.today()\n",
    "# symbol=\"NSE:TATASTEEL-EQ\"\n",
    "resolution = \"5\"\n",
    "technical_df = dynamicDataFetching(fyers,startDate,endDate,symbol,resolution)\n",
    "clean_data(technical_df)\n",
    "technical_df = technical_df.rename(columns={\"open\":\"Open\",\"low\":\"Low\",\"high\":\"High\",\"close\":\"Close\",\"volume\":\"Volume\"})"
   ]
  },
  {
   "cell_type": "code",
   "execution_count": null,
   "metadata": {},
   "outputs": [],
   "source": [
    "technical_df.shape"
   ]
  },
  {
   "cell_type": "code",
   "execution_count": null,
   "metadata": {},
   "outputs": [],
   "source": [
    "technical_signal = ema_crossover(technical_df)"
   ]
  },
  {
   "cell_type": "markdown",
   "metadata": {},
   "source": [
    "Now we have both trend_signal and technical_signal, we can have final singal"
   ]
  },
  {
   "cell_type": "code",
   "execution_count": null,
   "metadata": {},
   "outputs": [],
   "source": [
    "\n",
    "final_signal = 0\n",
    "if trend_signal == 2 and technical_signal == 2:\n",
    "  final_signal = 1 #BUY\n",
    "elif trend_signal == 1 and technical_signal == 1:\n",
    "  final_signal = -1 #SELL"
   ]
  },
  {
   "cell_type": "code",
   "execution_count": null,
   "metadata": {},
   "outputs": [],
   "source": [
    "\n",
    "positions = fyers.positions()\n",
    "#  check if already in position\n",
    "#  check if done for the day or not\n",
    "can_trade = (already_in_position(positions)==False) and (check_three_loses(positions)==False)\n",
    "\n",
    "# Taking trades\n",
    "if can_trade & final_signal != 0:\n",
    "    stop_loss = 2*technical_df.ATR[-1]\n",
    "    target = 2*stop_loss\n",
    "    data = {\n",
    "        \"symbol\":symbol,\n",
    "        \"qty\":1,\n",
    "        \"type\":2,\n",
    "        \"side\":final_signal,\n",
    "        \"productType\":\"BO\",\n",
    "        \"limitPrice\":0,\n",
    "        \"stopPrice\":0,\n",
    "        \"validity\":\"DAY\",\n",
    "        \"disclosedQty\":0,\n",
    "        \"offlineOrder\":\"False\",\n",
    "        \"stopLoss\":stop_loss,\n",
    "        \"takeProfit\":target\n",
    "    }\n",
    "    resp = fyers.place_order(data)\n",
    "    # if resp[\"code\"] == 1101:\n",
    "    print(\"Order placed successfully\")\n",
    "    curr_price = fyers.quotes({\"symbols\":symbol})\n",
    "    curr_price = curr_price[\"d\"][0][\"v\"][\"lp\"]\n",
    "    absolute_target = curr_price \n",
    "    absolute_sl = curr_price\n",
    "    if final_signal == 1:\n",
    "        absolute_target = curr_price+target\n",
    "        absolute_sl = curr_price-target\n",
    "    elif final_signal == -1:\n",
    "        absolute_target = curr_price-target\n",
    "        absolute_sl = curr_price+target\n",
    "    \n",
    "    # storing in db \n",
    "    cursor.execute(f\"\"\"INSERT INTO tradebook VALUES\n",
    "    (NOW(),'{symbol}',{curr_price},{absolute_target},{absolute_sl},{final_signal})\n",
    "    \"\"\")\n",
    "    db.commit()\n",
    "    # else:\n",
    "    #     print(\"Order not placed successfully\")\n",
    "else :\n",
    "    print(\"No trade - can_trade & final_signal\")"
   ]
  }
 ],
 "metadata": {
  "kernelspec": {
   "display_name": "Python 3.10.2 64-bit",
   "language": "python",
   "name": "python3"
  },
  "language_info": {
   "codemirror_mode": {
    "name": "ipython",
    "version": 3
   },
   "file_extension": ".py",
   "mimetype": "text/x-python",
   "name": "python",
   "nbconvert_exporter": "python",
   "pygments_lexer": "ipython3",
   "version": "3.10.2"
  },
  "orig_nbformat": 4,
  "vscode": {
   "interpreter": {
    "hash": "26de051ba29f2982a8de78e945f0abaf191376122a1563185a90213a26c5da77"
   }
  }
 },
 "nbformat": 4,
 "nbformat_minor": 2
}
