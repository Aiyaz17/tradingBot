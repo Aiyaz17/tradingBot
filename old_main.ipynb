{
 "cells": [
  {
   "cell_type": "code",
   "execution_count": 46,
   "metadata": {},
   "outputs": [],
   "source": [
    "# %run ./fyers_auth.ipynb"
   ]
  },
  {
   "cell_type": "code",
   "execution_count": 47,
   "metadata": {},
   "outputs": [],
   "source": [
    "from tensorflow import keras\n",
    "import sys\n",
    "sys.path.append('./shared')\n",
    "sys.path.append('./strategies')\n",
    "sys.path.append('./sql')\n",
    "from data_fetching_func import dynamicDataFetching,clean_data \n",
    "from ema_crossover import ema_crossover\n",
    "from money_management_rules import already_in_position,check_three_loses\n",
    "import pandas as pd\n",
    "import pandas_ta as ta\n",
    "import datetime as dt\n",
    "import numpy as np\n",
    "from sql_config import connect_db,execute_and_fetch"
   ]
  },
  {
   "cell_type": "code",
   "execution_count": 48,
   "metadata": {},
   "outputs": [],
   "source": [
    "db = connect_db()\n",
    "cursor = db.cursor()\n",
    "cursor.execute(\"USE tradingbot\")"
   ]
  },
  {
   "cell_type": "markdown",
   "metadata": {},
   "source": [
    "Importing Model"
   ]
  },
  {
   "cell_type": "markdown",
   "metadata": {},
   "source": [
    "# Trend Prediction"
   ]
  },
  {
   "cell_type": "code",
   "execution_count": 86,
   "metadata": {},
   "outputs": [],
   "source": [
    "startDate = (dt.date.today() - dt.timedelta(days = 800)) #last working day\n",
    "endDate = dt.date.today()\n",
    "resolution = \"1D\"\n",
    "trend_df = dynamicDataFetching(fyers,startDate,endDate,symbol,resolution)\n",
    "clean_data(trend_df)"
   ]
  },
  {
   "cell_type": "code",
   "execution_count": 87,
   "metadata": {},
   "outputs": [
    {
     "data": {
      "text/plain": [
       "(545, 5)"
      ]
     },
     "execution_count": 87,
     "metadata": {},
     "output_type": "execute_result"
    }
   ],
   "source": [
    "trend_df.shape"
   ]
  },
  {
   "cell_type": "code",
   "execution_count": 52,
   "metadata": {},
   "outputs": [
    {
     "data": {
      "text/html": [
       "<div>\n",
       "<style scoped>\n",
       "    .dataframe tbody tr th:only-of-type {\n",
       "        vertical-align: middle;\n",
       "    }\n",
       "\n",
       "    .dataframe tbody tr th {\n",
       "        vertical-align: top;\n",
       "    }\n",
       "\n",
       "    .dataframe thead th {\n",
       "        text-align: right;\n",
       "    }\n",
       "</style>\n",
       "<table border=\"1\" class=\"dataframe\">\n",
       "  <thead>\n",
       "    <tr style=\"text-align: right;\">\n",
       "      <th></th>\n",
       "      <th>open</th>\n",
       "      <th>high</th>\n",
       "      <th>low</th>\n",
       "      <th>close</th>\n",
       "      <th>volume</th>\n",
       "    </tr>\n",
       "    <tr>\n",
       "      <th>date</th>\n",
       "      <th></th>\n",
       "      <th></th>\n",
       "      <th></th>\n",
       "      <th></th>\n",
       "      <th></th>\n",
       "    </tr>\n",
       "  </thead>\n",
       "  <tbody>\n",
       "    <tr>\n",
       "      <th>2022-10-17 05:30:00+05:30</th>\n",
       "      <td>99.75</td>\n",
       "      <td>100.40</td>\n",
       "      <td>98.10</td>\n",
       "      <td>99.55</td>\n",
       "      <td>37568783.0</td>\n",
       "    </tr>\n",
       "    <tr>\n",
       "      <th>2022-10-18 05:30:00+05:30</th>\n",
       "      <td>100.30</td>\n",
       "      <td>101.00</td>\n",
       "      <td>99.80</td>\n",
       "      <td>100.65</td>\n",
       "      <td>30722156.0</td>\n",
       "    </tr>\n",
       "    <tr>\n",
       "      <th>2022-10-19 05:30:00+05:30</th>\n",
       "      <td>100.60</td>\n",
       "      <td>101.25</td>\n",
       "      <td>99.70</td>\n",
       "      <td>100.05</td>\n",
       "      <td>38764542.0</td>\n",
       "    </tr>\n",
       "    <tr>\n",
       "      <th>2022-10-20 05:30:00+05:30</th>\n",
       "      <td>99.50</td>\n",
       "      <td>101.20</td>\n",
       "      <td>98.80</td>\n",
       "      <td>100.90</td>\n",
       "      <td>38091315.0</td>\n",
       "    </tr>\n",
       "    <tr>\n",
       "      <th>2022-10-21 05:30:00+05:30</th>\n",
       "      <td>100.85</td>\n",
       "      <td>101.45</td>\n",
       "      <td>99.35</td>\n",
       "      <td>100.20</td>\n",
       "      <td>30973997.0</td>\n",
       "    </tr>\n",
       "  </tbody>\n",
       "</table>\n",
       "</div>"
      ],
      "text/plain": [
       "                             open    high    low   close      volume\n",
       "date                                                                \n",
       "2022-10-17 05:30:00+05:30   99.75  100.40  98.10   99.55  37568783.0\n",
       "2022-10-18 05:30:00+05:30  100.30  101.00  99.80  100.65  30722156.0\n",
       "2022-10-19 05:30:00+05:30  100.60  101.25  99.70  100.05  38764542.0\n",
       "2022-10-20 05:30:00+05:30   99.50  101.20  98.80  100.90  38091315.0\n",
       "2022-10-21 05:30:00+05:30  100.85  101.45  99.35  100.20  30973997.0"
      ]
     },
     "execution_count": 52,
     "metadata": {},
     "output_type": "execute_result"
    }
   ],
   "source": [
    "trend_df.tail()"
   ]
  },
  {
   "cell_type": "code",
   "execution_count": 53,
   "metadata": {},
   "outputs": [],
   "source": [
    "# Adding indicators\n",
    "trend_df['RSI']=ta.rsi(trend_df.close, length=15)\n",
    "trend_df['EMA_20']=ta.ema(trend_df.close, length=20)\n",
    "trend_df['EMA_100']=ta.ema(trend_df.close, length=100)\n",
    "trend_df['EMA_150']=ta.ema(trend_df.close, length=150)\n",
    "trend_df['EMA_200']=ta.ema(trend_df.close, length=200)\n",
    "trend_df['EMA_500']=ta.ema(trend_df.close, length=500)\n",
    "\n",
    "\n",
    "# Dropping null values after adding indicators and features\n",
    "trend_df.dropna(inplace=True)\n",
    "trend_df.reset_index(inplace = True)\n",
    "# trend_df.drop(['volume', 'date'], axis=1, inplace=True) # not required\n",
    "trend_df.drop([ 'date'], axis=1, inplace=True) # not required"
   ]
  },
  {
   "cell_type": "code",
   "execution_count": 54,
   "metadata": {},
   "outputs": [
    {
     "data": {
      "text/html": [
       "<div>\n",
       "<style scoped>\n",
       "    .dataframe tbody tr th:only-of-type {\n",
       "        vertical-align: middle;\n",
       "    }\n",
       "\n",
       "    .dataframe tbody tr th {\n",
       "        vertical-align: top;\n",
       "    }\n",
       "\n",
       "    .dataframe thead th {\n",
       "        text-align: right;\n",
       "    }\n",
       "</style>\n",
       "<table border=\"1\" class=\"dataframe\">\n",
       "  <thead>\n",
       "    <tr style=\"text-align: right;\">\n",
       "      <th></th>\n",
       "      <th>open</th>\n",
       "      <th>high</th>\n",
       "      <th>low</th>\n",
       "      <th>close</th>\n",
       "      <th>volume</th>\n",
       "      <th>RSI</th>\n",
       "      <th>EMA_20</th>\n",
       "      <th>EMA_100</th>\n",
       "      <th>EMA_150</th>\n",
       "      <th>EMA_200</th>\n",
       "      <th>EMA_500</th>\n",
       "    </tr>\n",
       "  </thead>\n",
       "  <tbody>\n",
       "    <tr>\n",
       "      <th>183</th>\n",
       "      <td>99.75</td>\n",
       "      <td>100.40</td>\n",
       "      <td>98.10</td>\n",
       "      <td>99.55</td>\n",
       "      <td>37568783.0</td>\n",
       "      <td>43.463089</td>\n",
       "      <td>101.512288</td>\n",
       "      <td>104.563477</td>\n",
       "      <td>106.685317</td>\n",
       "      <td>107.739421</td>\n",
       "      <td>93.063521</td>\n",
       "    </tr>\n",
       "    <tr>\n",
       "      <th>184</th>\n",
       "      <td>100.30</td>\n",
       "      <td>101.00</td>\n",
       "      <td>99.80</td>\n",
       "      <td>100.65</td>\n",
       "      <td>30722156.0</td>\n",
       "      <td>46.485680</td>\n",
       "      <td>101.430165</td>\n",
       "      <td>104.485982</td>\n",
       "      <td>106.605379</td>\n",
       "      <td>107.668879</td>\n",
       "      <td>93.093806</td>\n",
       "    </tr>\n",
       "    <tr>\n",
       "      <th>185</th>\n",
       "      <td>100.60</td>\n",
       "      <td>101.25</td>\n",
       "      <td>99.70</td>\n",
       "      <td>100.05</td>\n",
       "      <td>38764542.0</td>\n",
       "      <td>45.077278</td>\n",
       "      <td>101.298721</td>\n",
       "      <td>104.398141</td>\n",
       "      <td>106.518553</td>\n",
       "      <td>107.593069</td>\n",
       "      <td>93.121575</td>\n",
       "    </tr>\n",
       "    <tr>\n",
       "      <th>186</th>\n",
       "      <td>99.50</td>\n",
       "      <td>101.20</td>\n",
       "      <td>98.80</td>\n",
       "      <td>100.90</td>\n",
       "      <td>38091315.0</td>\n",
       "      <td>47.491982</td>\n",
       "      <td>101.260748</td>\n",
       "      <td>104.328871</td>\n",
       "      <td>106.444135</td>\n",
       "      <td>107.526472</td>\n",
       "      <td>93.152627</td>\n",
       "    </tr>\n",
       "    <tr>\n",
       "      <th>187</th>\n",
       "      <td>100.85</td>\n",
       "      <td>101.45</td>\n",
       "      <td>99.35</td>\n",
       "      <td>100.20</td>\n",
       "      <td>30973997.0</td>\n",
       "      <td>45.718424</td>\n",
       "      <td>101.159724</td>\n",
       "      <td>104.247111</td>\n",
       "      <td>106.361431</td>\n",
       "      <td>107.453571</td>\n",
       "      <td>93.180760</td>\n",
       "    </tr>\n",
       "  </tbody>\n",
       "</table>\n",
       "</div>"
      ],
      "text/plain": [
       "       open    high    low   close      volume        RSI      EMA_20  \\\n",
       "183   99.75  100.40  98.10   99.55  37568783.0  43.463089  101.512288   \n",
       "184  100.30  101.00  99.80  100.65  30722156.0  46.485680  101.430165   \n",
       "185  100.60  101.25  99.70  100.05  38764542.0  45.077278  101.298721   \n",
       "186   99.50  101.20  98.80  100.90  38091315.0  47.491982  101.260748   \n",
       "187  100.85  101.45  99.35  100.20  30973997.0  45.718424  101.159724   \n",
       "\n",
       "        EMA_100     EMA_150     EMA_200    EMA_500  \n",
       "183  104.563477  106.685317  107.739421  93.063521  \n",
       "184  104.485982  106.605379  107.668879  93.093806  \n",
       "185  104.398141  106.518553  107.593069  93.121575  \n",
       "186  104.328871  106.444135  107.526472  93.152627  \n",
       "187  104.247111  106.361431  107.453571  93.180760  "
      ]
     },
     "execution_count": 54,
     "metadata": {},
     "output_type": "execute_result"
    }
   ],
   "source": [
    "trend_df = trend_df.tail(30)\n",
    "trend_df.tail()\n"
   ]
  },
  {
   "cell_type": "code",
   "execution_count": 55,
   "metadata": {},
   "outputs": [
    {
     "data": {
      "text/plain": [
       "(30, 11)"
      ]
     },
     "execution_count": 55,
     "metadata": {},
     "output_type": "execute_result"
    }
   ],
   "source": [
    "trend_df.shape"
   ]
  },
  {
   "cell_type": "code",
   "execution_count": 56,
   "metadata": {},
   "outputs": [
    {
     "name": "stdout",
     "output_type": "stream",
     "text": [
      "[[0.86363636 0.75697211 0.83665339 0.75268817 0.41654363 0.71518736\n",
      "  0.91741449 0.93926001 1.         1.         0.        ]\n",
      " [0.84710744 0.80478088 0.91633466 0.89964158 0.12798515 0.88565673\n",
      "  0.93879432 0.95340541 0.99533807 0.99162203 0.05773305]\n",
      " [0.94628099 0.86454183 1.         0.89964158 0.17025133 0.88565673\n",
      "  0.95813797 0.96727069 0.99073789 0.98332741 0.11523563]\n",
      " [0.80578512 1.         0.86055777 1.         0.70414154 1.\n",
      "  0.99874215 0.99394846 0.9948524  0.98254102 0.17767279]\n",
      " [1.         0.88844622 0.91633466 0.84587814 0.40742996 0.78354788\n",
      "  1.         1.         0.98562271 0.97035872 0.23193007]\n",
      " [0.79752066 0.7689243  0.79681275 0.75268817 0.97724979 0.6639081\n",
      "  0.97968547 0.99377946 0.96847962 0.95140236 0.28117549]\n",
      " [0.79752066 0.66533865 0.6374502  0.56630824 0.25839502 0.44892375\n",
      "  0.9184005  0.96337759 0.93549233 0.91884408 0.32063379]\n",
      " [0.6322314  0.67729084 0.71713147 0.75985663 0.27096643 0.69314832\n",
      "  0.90750755 0.95881704 0.91963135 0.90093071 0.36989397]\n",
      " [0.76446281 0.74501992 0.74103586 0.66308244 0.19509123 0.58367597\n",
      "  0.87537434 0.94172714 0.89563575 0.87603511 0.41397781]\n",
      " [0.65289256 0.5936255  0.67729084 0.60215054 0.38786516 0.5164095\n",
      "  0.83227476 0.91702996 0.86670391 0.84687877 0.4547503 ]\n",
      " [0.79752066 0.80079681 0.69721116 0.65232975 1.         0.58309258\n",
      "  0.80483128 0.89936535 0.84248214 0.82172539 0.49794208]\n",
      " [0.64876033 0.52589641 0.27888446 0.33333333 0.89279862 0.25914133\n",
      "  0.70656764 0.84045245 0.7910746  0.77321923 0.5245469 ]\n",
      " [0.39669421 0.27888446 0.11952191 0.17562724 0.93906525 0.12914784\n",
      "  0.58135807 0.76214079 0.72674917 0.7135268  0.54293044]\n",
      " [0.         0.         0.         0.         0.51872729 0.\n",
      "  0.42764335 0.66247754 0.64813166 0.64143337 0.55220336]\n",
      " [0.03719008 0.03187251 0.11155378 0.11827957 0.38159353 0.16567295\n",
      "  0.31579641 0.58021183 0.58075451 0.57880899 0.56752557]\n",
      " [0.02479339 0.20318725 0.05577689 0.29390681 0.45183376 0.39090476\n",
      "  0.25503143 0.52247747 0.52941386 0.52980268 0.59182384]\n",
      " [0.25206612 0.14342629 0.23904382 0.22580645 0.08299441 0.3307884\n",
      "  0.18437669 0.45700586 0.47288103 0.47624513 0.61252087]\n",
      " [0.30991736 0.29083665 0.39840637 0.4265233  0.11973865 0.57002306\n",
      "  0.16665654 0.4190048  0.4344045  0.43807187 0.64346355]\n",
      " [0.45041322 0.47410359 0.53784861 0.59856631 0.22072889 0.75059023\n",
      "  0.19022879 0.40419116 0.41127261 0.41300817 0.68313549]\n",
      " [0.55785124 0.4501992  0.5498008  0.58064516 0.06779467 0.73135808\n",
      "  0.20743056 0.38733389 0.38690179 0.38686785 0.7217269 ]\n",
      " [0.45041322 0.4501992  0.49003984 0.5734767  0.07488445 0.7232263\n",
      "  0.22134388 0.36987564 0.36223564 0.36045723 0.75979538]\n",
      " [0.5785124  0.46215139 0.38247012 0.36917563 0.13108726 0.50298084\n",
      "  0.18690145 0.32612163 0.3202796  0.31919283 0.7871992 ]\n",
      " [0.31404959 0.26693227 0.3187251  0.38351254 0.13455036 0.52080826\n",
      "  0.15903966 0.2851036  0.28011553 0.27939984 0.81523135]\n",
      " [0.37603306 0.31474104 0.30278884 0.35125448 0.04992117 0.48588269\n",
      "  0.12640547 0.24069127 0.23770186 0.23761597 0.84149171]\n",
      " [0.43801653 0.39442231 0.39043825 0.35125448 0.02194554 0.48588269\n",
      "  0.09687931 0.19715839 0.19584996 0.19624786 0.86764723]\n",
      " [0.26446281 0.20318725 0.24701195 0.31182796 0.08661862 0.43909218\n",
      "  0.06108906 0.14934621 0.1511527  0.15237414 0.89166957]\n",
      " [0.30991736 0.25099602 0.38247012 0.390681   0.         0.55929084\n",
      "  0.0468596  0.11276348 0.11384684 0.11477144 0.91965355]\n",
      " [0.33471074 0.27091633 0.37450199 0.34767025 0.1017465  0.50328323\n",
      "  0.02408413 0.07129643 0.07332635 0.07436046 0.94531261]\n",
      " [0.24380165 0.26693227 0.30278884 0.40860215 0.09322932 0.59930824\n",
      "  0.01750444 0.03859621 0.03859662 0.03886003 0.97400461]\n",
      " [0.3553719  0.28685259 0.34661355 0.35842294 0.00318611 0.52877954\n",
      "  0.         0.         0.         0.         1.        ]]\n"
     ]
    }
   ],
   "source": [
    "# Scaling\n",
    "from sklearn.preprocessing import MinMaxScaler\n",
    "sc = MinMaxScaler(feature_range=(0,1))\n",
    "data_set_scaled = sc.fit_transform(trend_df)\n",
    "print(data_set_scaled)"
   ]
  },
  {
   "cell_type": "code",
   "execution_count": 57,
   "metadata": {},
   "outputs": [],
   "source": [
    "data_set_scaled = np.reshape(data_set_scaled, (1, 30, 11))"
   ]
  },
  {
   "cell_type": "code",
   "execution_count": 58,
   "metadata": {},
   "outputs": [
    {
     "data": {
      "text/plain": [
       "(1, 30, 11)"
      ]
     },
     "execution_count": 58,
     "metadata": {},
     "output_type": "execute_result"
    }
   ],
   "source": [
    "data_set_scaled.shape"
   ]
  },
  {
   "cell_type": "code",
   "execution_count": 49,
   "metadata": {},
   "outputs": [
    {
     "name": "stdout",
     "output_type": "stream",
     "text": [
      "Model: \"sequential\"\n",
      "_________________________________________________________________\n",
      " Layer (type)                Output Shape              Param #   \n",
      "=================================================================\n",
      " first_layer (LSTM)          (None, 150)               97200     \n",
      "                                                                 \n",
      " dense_layer (Dense)         (None, 1)                 151       \n",
      "                                                                 \n",
      "=================================================================\n",
      "Total params: 97,351\n",
      "Trainable params: 97,351\n",
      "Non-trainable params: 0\n",
      "_________________________________________________________________\n"
     ]
    }
   ],
   "source": [
    "model = keras.models.load_model('./models/lstm_trend_1.0/')\n",
    "model.summary()"
   ]
  },
  {
   "cell_type": "code",
   "execution_count": 59,
   "metadata": {},
   "outputs": [
    {
     "name": "stdout",
     "output_type": "stream",
     "text": [
      "1/1 [==============================] - 0s 232ms/step\n"
     ]
    },
    {
     "data": {
      "text/plain": [
       "(1, 1)"
      ]
     },
     "execution_count": 59,
     "metadata": {},
     "output_type": "execute_result"
    }
   ],
   "source": [
    "y_pred = model.predict(data_set_scaled)\n",
    "y_pred.shape"
   ]
  },
  {
   "cell_type": "code",
   "execution_count": 99,
   "metadata": {},
   "outputs": [],
   "source": [
    "trend_signal = int(y_pred)\n",
    "if trend_signal == 0 :\n",
    "    trend_signal = -1 #DOWN TREND\n",
    "elif trend_signal == 1:\n",
    "    trend_signal = 1 #UP TREND\n",
    "\n",
    "cursor.execute(f\"INSERT INTO trend VALUES(curdate(),'{symbol}',{trend_signal})\")\n",
    "db.commit()\n",
    "# TODO - store in some kind of db then retrieve afterwards when required"
   ]
  },
  {
   "cell_type": "markdown",
   "metadata": {},
   "source": [
    "# Techinal Strategy"
   ]
  },
  {
   "cell_type": "markdown",
   "metadata": {},
   "source": [
    "Data fetching for techinal indicator\n"
   ]
  },
  {
   "cell_type": "code",
   "execution_count": 88,
   "metadata": {},
   "outputs": [],
   "source": [
    "\n",
    "startDate = (dt.date.today() - dt.timedelta(days = 1)) #if week day\n",
    "\n",
    "if  dt.date.today().weekday() == 6: #if sunday\n",
    "    startDate = (dt.date.today() - dt.timedelta(days = 2)) \n",
    "if dt.date.today().weekday() == 0: #if monday\n",
    "    startDate = (dt.date.today() - dt.timedelta(days = 3)) \n",
    "\n",
    "endDate = dt.date.today()\n",
    "# symbol=\"NSE:TATASTEEL-EQ\"\n",
    "resolution = \"5\"\n",
    "technical_df = dynamicDataFetching(fyers,startDate,endDate,symbol,resolution)\n",
    "clean_data(technical_df)\n",
    "technical_df = technical_df.rename(columns={\"open\":\"Open\",\"low\":\"Low\",\"high\":\"High\",\"close\":\"Close\",\"volume\":\"Volume\"})"
   ]
  },
  {
   "cell_type": "code",
   "execution_count": 90,
   "metadata": {},
   "outputs": [
    {
     "data": {
      "text/plain": [
       "(0, 5)"
      ]
     },
     "execution_count": 90,
     "metadata": {},
     "output_type": "execute_result"
    }
   ],
   "source": [
    "technical_df.shape"
   ]
  },
  {
   "cell_type": "code",
   "execution_count": 66,
   "metadata": {},
   "outputs": [],
   "source": [
    "technical_signal = ema_crossover(technical_df)"
   ]
  },
  {
   "cell_type": "markdown",
   "metadata": {},
   "source": [
    "Now we have both trend_signal and technical_signal, we can have final singal"
   ]
  },
  {
   "cell_type": "code",
   "execution_count": 67,
   "metadata": {},
   "outputs": [],
   "source": [
    "\n",
    "final_signal = 0\n",
    "if trend_signal == 2 and technical_signal == 2:\n",
    "  final_signal = 1 #BUY\n",
    "elif trend_signal == 1 and technical_signal == 1:\n",
    "  final_signal = -1 #SELL"
   ]
  },
  {
   "cell_type": "code",
   "execution_count": 72,
   "metadata": {},
   "outputs": [
    {
     "name": "stdout",
     "output_type": "stream",
     "text": [
      "No trade - Can_trade = false\n"
     ]
    }
   ],
   "source": [
    "\n",
    "positions = fyers.positions()\n",
    "#  check if already in position\n",
    "#  check if done for the day or not\n",
    "can_trade = (already_in_position(positions)==False) and (check_three_loses(positions)==False)\n",
    "\n",
    "# Taking trades\n",
    "if can_trade & final_signal != 0:\n",
    "    stop_loss = 2*technical_df.ATR[-1]\n",
    "    target = 2*stop_loss\n",
    "    data = {\n",
    "        \"symbol\":symbol,\n",
    "        \"qty\":1,\n",
    "        \"type\":2,\n",
    "        \"side\":final_signal,\n",
    "        \"productType\":\"BO\",\n",
    "        \"limitPrice\":0,\n",
    "        \"stopPrice\":0,\n",
    "        \"validity\":\"DAY\",\n",
    "        \"disclosedQty\":0,\n",
    "        \"offlineOrder\":\"False\",\n",
    "        \"stopLoss\":stop_loss,\n",
    "        \"takeProfit\":target\n",
    "    }\n",
    "    resp = fyers.place_order(data)\n",
    "    # if resp[\"code\"] == 1101:\n",
    "    print(\"Order placed successfully\")\n",
    "    curr_price = fyers.quotes({\"symbols\":symbol})\n",
    "    curr_price = curr_price[\"d\"][0][\"v\"][\"lp\"]\n",
    "    absolute_target = curr_price \n",
    "    absolute_sl = curr_price\n",
    "    if final_signal == 1:\n",
    "        absolute_target = curr_price+target\n",
    "        absolute_sl = curr_price-target\n",
    "    elif final_signal == -1:\n",
    "        absolute_target = curr_price-target\n",
    "        absolute_sl = curr_price+target\n",
    "    \n",
    "    # storing in db \n",
    "    cursor.execute(f\"\"\"INSERT INTO tradebook VALUES\n",
    "    (NOW(),'{symbol}',{curr_price},{absolute_target},{absolute_sl},{final_signal})\n",
    "    \"\"\")\n",
    "    db.commit()\n",
    "    # else:\n",
    "    #     print(\"Order not placed successfully\")\n",
    "else :\n",
    "    print(\"No trade - can_trade & final_signal\")"
   ]
  }
 ],
 "metadata": {
  "kernelspec": {
   "display_name": "Python 3.10.2 64-bit",
   "language": "python",
   "name": "python3"
  },
  "language_info": {
   "codemirror_mode": {
    "name": "ipython",
    "version": 3
   },
   "file_extension": ".py",
   "mimetype": "text/x-python",
   "name": "python",
   "nbconvert_exporter": "python",
   "pygments_lexer": "ipython3",
   "version": "3.10.2"
  },
  "orig_nbformat": 4,
  "vscode": {
   "interpreter": {
    "hash": "26de051ba29f2982a8de78e945f0abaf191376122a1563185a90213a26c5da77"
   }
  }
 },
 "nbformat": 4,
 "nbformat_minor": 2
}
