{
 "cells": [
  {
   "cell_type": "code",
   "execution_count": 19,
   "metadata": {},
   "outputs": [],
   "source": [
    "import pandas as pd\n",
    "import pandas_ta as ta\n",
    "import numpy as np"
   ]
  },
  {
   "cell_type": "code",
   "execution_count": 55,
   "metadata": {},
   "outputs": [],
   "source": [
    "df = pd.read_csv(\"../data/5Y_SBIN_1min.csv\")"
   ]
  },
  {
   "cell_type": "code",
   "execution_count": 143,
   "metadata": {},
   "outputs": [],
   "source": [
    "def bollingerBands(df):\n",
    "    \n",
    "    # adding BB\n",
    "    bbands = ta.bbands(df.close,length=20,std=2)\n",
    "    bb_df = df.join(bbands)\n",
    "    bb_df['ATR']= df.ta.atr()\n",
    "    bb_df.dropna(inplace=True)\n",
    "    bb_df.reset_index(inplace = True)\n",
    "\n",
    "    signal = 0\n",
    "    last = len(bb_df)-1\n",
    "    if bb_df[\"close\"][last]>bb_df[\"BBU_20_2.0\"][last]:\n",
    "        signal = 1\n",
    "    if bb_df[\"close\"][last]<bb_df[\"BBL_20_2.0\"][last]:\n",
    "        signal = -1\n",
    "    # Using len() instead of -1 cuz its throwing some error.\n",
    "    return signal"
   ]
  },
  {
   "cell_type": "code",
   "execution_count": 145,
   "metadata": {},
   "outputs": [],
   "source": [
    "count1 = 0\n",
    "count_1 = 0\n",
    "count0 = 0\n",
    "for i in range(20,10000):\n",
    "    res = bollingerBands(df[0:i])\n",
    "    if res == 1:count1= count1+1\n",
    "    if res == -1:count_1= count_1+1\n",
    "    if res == 0:count0= count0+1\n",
    "    "
   ]
  }
 ],
 "metadata": {
  "kernelspec": {
   "display_name": "Python 3.10.2 64-bit",
   "language": "python",
   "name": "python3"
  },
  "language_info": {
   "codemirror_mode": {
    "name": "ipython",
    "version": 3
   },
   "file_extension": ".py",
   "mimetype": "text/x-python",
   "name": "python",
   "nbconvert_exporter": "python",
   "pygments_lexer": "ipython3",
   "version": "3.10.2"
  },
  "orig_nbformat": 4,
  "vscode": {
   "interpreter": {
    "hash": "26de051ba29f2982a8de78e945f0abaf191376122a1563185a90213a26c5da77"
   }
  }
 },
 "nbformat": 4,
 "nbformat_minor": 2
}
