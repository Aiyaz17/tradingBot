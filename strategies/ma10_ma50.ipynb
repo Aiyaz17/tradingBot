{
 "cells": [
  {
   "cell_type": "code",
   "execution_count": null,
   "metadata": {},
   "outputs": [],
   "source": [
    "%run ../fyers_auth.ipynb\n",
    "import sys\n",
    "sys.path.append('../shared')\n",
    "from data_fetching_func import dynamicDataFetching,clean_data\n",
    "import pandas as pd\n",
    "import pandas_ta as ta\n",
    "import datetime as dt\n",
    "import importlib.util as ilu"
   ]
  },
  {
   "cell_type": "code",
   "execution_count": null,
   "metadata": {},
   "outputs": [],
   "source": [
    "startDate = dt.date(2000,1,1)\n",
    "endDate = dt.date.today()\n",
    "symbol=\"NSE:TATASTEEL-EQ\"\n",
    "data = dynamicDataFetching(\"18\")"
   ]
  },
  {
   "cell_type": "code",
   "execution_count": null,
   "metadata": {},
   "outputs": [],
   "source": []
  }
 ],
 "metadata": {
  "kernelspec": {
   "display_name": "Python 3.10.2 64-bit",
   "language": "python",
   "name": "python3"
  },
  "language_info": {
   "codemirror_mode": {
    "name": "ipython",
    "version": 3
   },
   "file_extension": ".py",
   "mimetype": "text/x-python",
   "name": "python",
   "nbconvert_exporter": "python",
   "pygments_lexer": "ipython3",
   "version": "3.10.2"
  },
  "orig_nbformat": 4,
  "vscode": {
   "interpreter": {
    "hash": "26de051ba29f2982a8de78e945f0abaf191376122a1563185a90213a26c5da77"
   }
  }
 },
 "nbformat": 4,
 "nbformat_minor": 2
}
