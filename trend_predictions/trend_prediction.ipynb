{
 "cells": [
  {
   "cell_type": "code",
   "execution_count": 2,
   "metadata": {},
   "outputs": [],
   "source": [
    "# !pip install pandas-ta\n",
    "import numpy as np\n",
    "import pandas as pd\n",
    "import matplotlib.pyplot as plt\n",
    "import pandas_ta as ta\n"
   ]
  },
  {
   "cell_type": "code",
   "execution_count": 15,
   "metadata": {},
   "outputs": [
    {
     "data": {
      "text/html": [
       "<div>\n",
       "<style scoped>\n",
       "    .dataframe tbody tr th:only-of-type {\n",
       "        vertical-align: middle;\n",
       "    }\n",
       "\n",
       "    .dataframe tbody tr th {\n",
       "        vertical-align: top;\n",
       "    }\n",
       "\n",
       "    .dataframe thead th {\n",
       "        text-align: right;\n",
       "    }\n",
       "</style>\n",
       "<table border=\"1\" class=\"dataframe\">\n",
       "  <thead>\n",
       "    <tr style=\"text-align: right;\">\n",
       "      <th></th>\n",
       "      <th>open</th>\n",
       "      <th>high</th>\n",
       "      <th>low</th>\n",
       "      <th>close</th>\n",
       "      <th>volume</th>\n",
       "    </tr>\n",
       "    <tr>\n",
       "      <th>date</th>\n",
       "      <th></th>\n",
       "      <th></th>\n",
       "      <th></th>\n",
       "      <th></th>\n",
       "      <th></th>\n",
       "    </tr>\n",
       "  </thead>\n",
       "  <tbody>\n",
       "    <tr>\n",
       "      <th>2000-01-03 05:30:00+05:30</th>\n",
       "      <td>8.72</td>\n",
       "      <td>9.03</td>\n",
       "      <td>8.61</td>\n",
       "      <td>8.98</td>\n",
       "      <td>20025360.0</td>\n",
       "    </tr>\n",
       "    <tr>\n",
       "      <th>2000-01-04 05:30:00+05:30</th>\n",
       "      <td>8.84</td>\n",
       "      <td>9.01</td>\n",
       "      <td>8.43</td>\n",
       "      <td>8.88</td>\n",
       "      <td>15546330.0</td>\n",
       "    </tr>\n",
       "    <tr>\n",
       "      <th>2000-01-05 05:30:00+05:30</th>\n",
       "      <td>8.52</td>\n",
       "      <td>9.60</td>\n",
       "      <td>8.52</td>\n",
       "      <td>9.22</td>\n",
       "      <td>38390400.0</td>\n",
       "    </tr>\n",
       "    <tr>\n",
       "      <th>2000-01-06 05:30:00+05:30</th>\n",
       "      <td>9.36</td>\n",
       "      <td>9.96</td>\n",
       "      <td>9.36</td>\n",
       "      <td>9.91</td>\n",
       "      <td>25596190.0</td>\n",
       "    </tr>\n",
       "    <tr>\n",
       "      <th>2000-01-07 05:30:00+05:30</th>\n",
       "      <td>10.22</td>\n",
       "      <td>10.55</td>\n",
       "      <td>9.80</td>\n",
       "      <td>10.13</td>\n",
       "      <td>36405110.0</td>\n",
       "    </tr>\n",
       "    <tr>\n",
       "      <th>...</th>\n",
       "      <td>...</td>\n",
       "      <td>...</td>\n",
       "      <td>...</td>\n",
       "      <td>...</td>\n",
       "      <td>...</td>\n",
       "    </tr>\n",
       "    <tr>\n",
       "      <th>2022-10-10 05:30:00+05:30</th>\n",
       "      <td>102.00</td>\n",
       "      <td>103.50</td>\n",
       "      <td>101.15</td>\n",
       "      <td>103.20</td>\n",
       "      <td>36641275.0</td>\n",
       "    </tr>\n",
       "    <tr>\n",
       "      <th>2022-10-11 05:30:00+05:30</th>\n",
       "      <td>103.55</td>\n",
       "      <td>103.65</td>\n",
       "      <td>99.80</td>\n",
       "      <td>100.35</td>\n",
       "      <td>41083734.0</td>\n",
       "    </tr>\n",
       "    <tr>\n",
       "      <th>2022-10-12 05:30:00+05:30</th>\n",
       "      <td>100.35</td>\n",
       "      <td>101.20</td>\n",
       "      <td>99.00</td>\n",
       "      <td>100.55</td>\n",
       "      <td>41357469.0</td>\n",
       "    </tr>\n",
       "    <tr>\n",
       "      <th>2022-10-13 05:30:00+05:30</th>\n",
       "      <td>101.10</td>\n",
       "      <td>101.80</td>\n",
       "      <td>98.80</td>\n",
       "      <td>100.10</td>\n",
       "      <td>34668093.0</td>\n",
       "    </tr>\n",
       "    <tr>\n",
       "      <th>2022-10-14 05:30:00+05:30</th>\n",
       "      <td>101.85</td>\n",
       "      <td>102.80</td>\n",
       "      <td>99.90</td>\n",
       "      <td>100.10</td>\n",
       "      <td>32456805.0</td>\n",
       "    </tr>\n",
       "  </tbody>\n",
       "</table>\n",
       "<p>5669 rows × 5 columns</p>\n",
       "</div>"
      ],
      "text/plain": [
       "                             open    high     low   close      volume\n",
       "date                                                                 \n",
       "2000-01-03 05:30:00+05:30    8.72    9.03    8.61    8.98  20025360.0\n",
       "2000-01-04 05:30:00+05:30    8.84    9.01    8.43    8.88  15546330.0\n",
       "2000-01-05 05:30:00+05:30    8.52    9.60    8.52    9.22  38390400.0\n",
       "2000-01-06 05:30:00+05:30    9.36    9.96    9.36    9.91  25596190.0\n",
       "2000-01-07 05:30:00+05:30   10.22   10.55    9.80   10.13  36405110.0\n",
       "...                           ...     ...     ...     ...         ...\n",
       "2022-10-10 05:30:00+05:30  102.00  103.50  101.15  103.20  36641275.0\n",
       "2022-10-11 05:30:00+05:30  103.55  103.65   99.80  100.35  41083734.0\n",
       "2022-10-12 05:30:00+05:30  100.35  101.20   99.00  100.55  41357469.0\n",
       "2022-10-13 05:30:00+05:30  101.10  101.80   98.80  100.10  34668093.0\n",
       "2022-10-14 05:30:00+05:30  101.85  102.80   99.90  100.10  32456805.0\n",
       "\n",
       "[5669 rows x 5 columns]"
      ]
     },
     "execution_count": 15,
     "metadata": {},
     "output_type": "execute_result"
    }
   ],
   "source": [
    "data = pd.read_csv(\"../data/22Y/22Y_tatasteel_1D.csv\",index_col=\"date\")\n",
    "data"
   ]
  },
  {
   "cell_type": "code",
   "execution_count": 17,
   "metadata": {},
   "outputs": [],
   "source": [
    "# Adding indicators\n",
    "data['RSI']=ta.rsi(data.close, length=15)\n",
    "data['EMA_20']=ta.ema(data.close, length=20)\n",
    "data['EMA_100']=ta.ema(data.close, length=100)\n",
    "data['EMA_150']=ta.ema(data.close, length=150)\n",
    "data['EMA_200']=ta.ema(data.close, length=200)\n",
    "data['EMA_500']=ta.ema(data.close, length=500)\n",
    "\n",
    "\n",
    "data['target'] = data['close']-data.open\n",
    "data['target'] = data['target'].shift(-1)\n",
    "\n",
    "data['trend'] = [1 if data.target[i]>0 else 0 for i in range(len(data))]\n",
    "\n",
    "# Dropping null values after adding indicators and features\n",
    "data.dropna(inplace=True)\n",
    "data.reset_index(inplace = True)\n",
    "# data.drop(['volume', 'date'], axis=1, inplace=True) # not required\n",
    "data.drop([ 'date','target'], axis=1, inplace=True) # not required"
   ]
  },
  {
   "cell_type": "code",
   "execution_count": 5,
   "metadata": {},
   "outputs": [
    {
     "data": {
      "text/html": [
       "<div>\n",
       "<style scoped>\n",
       "    .dataframe tbody tr th:only-of-type {\n",
       "        vertical-align: middle;\n",
       "    }\n",
       "\n",
       "    .dataframe tbody tr th {\n",
       "        vertical-align: top;\n",
       "    }\n",
       "\n",
       "    .dataframe thead th {\n",
       "        text-align: right;\n",
       "    }\n",
       "</style>\n",
       "<table border=\"1\" class=\"dataframe\">\n",
       "  <thead>\n",
       "    <tr style=\"text-align: right;\">\n",
       "      <th></th>\n",
       "      <th>open</th>\n",
       "      <th>high</th>\n",
       "      <th>low</th>\n",
       "      <th>close</th>\n",
       "      <th>volume</th>\n",
       "      <th>RSI</th>\n",
       "      <th>EMA_20</th>\n",
       "      <th>EMA_100</th>\n",
       "      <th>EMA_150</th>\n",
       "      <th>EMA_200</th>\n",
       "      <th>EMA_500</th>\n",
       "      <th>trend</th>\n",
       "    </tr>\n",
       "  </thead>\n",
       "  <tbody>\n",
       "    <tr>\n",
       "      <th>0</th>\n",
       "      <td>5.12</td>\n",
       "      <td>5.19</td>\n",
       "      <td>5.05</td>\n",
       "      <td>5.16</td>\n",
       "      <td>2053710.0</td>\n",
       "      <td>49.560493</td>\n",
       "      <td>5.189072</td>\n",
       "      <td>5.251564</td>\n",
       "      <td>5.522660</td>\n",
       "      <td>5.773724</td>\n",
       "      <td>6.756780</td>\n",
       "      <td>1</td>\n",
       "    </tr>\n",
       "    <tr>\n",
       "      <th>1</th>\n",
       "      <td>5.18</td>\n",
       "      <td>5.43</td>\n",
       "      <td>5.18</td>\n",
       "      <td>5.39</td>\n",
       "      <td>5428420.0</td>\n",
       "      <td>55.576843</td>\n",
       "      <td>5.208208</td>\n",
       "      <td>5.254306</td>\n",
       "      <td>5.520902</td>\n",
       "      <td>5.769906</td>\n",
       "      <td>6.751324</td>\n",
       "      <td>1</td>\n",
       "    </tr>\n",
       "    <tr>\n",
       "      <th>2</th>\n",
       "      <td>5.48</td>\n",
       "      <td>5.66</td>\n",
       "      <td>5.42</td>\n",
       "      <td>5.61</td>\n",
       "      <td>8511680.0</td>\n",
       "      <td>60.415705</td>\n",
       "      <td>5.246474</td>\n",
       "      <td>5.261349</td>\n",
       "      <td>5.522083</td>\n",
       "      <td>5.768315</td>\n",
       "      <td>6.746768</td>\n",
       "      <td>1</td>\n",
       "    </tr>\n",
       "    <tr>\n",
       "      <th>3</th>\n",
       "      <td>5.69</td>\n",
       "      <td>5.88</td>\n",
       "      <td>5.69</td>\n",
       "      <td>5.82</td>\n",
       "      <td>6797310.0</td>\n",
       "      <td>64.383464</td>\n",
       "      <td>5.301095</td>\n",
       "      <td>5.272412</td>\n",
       "      <td>5.526029</td>\n",
       "      <td>5.768829</td>\n",
       "      <td>6.743068</td>\n",
       "      <td>1</td>\n",
       "    </tr>\n",
       "    <tr>\n",
       "      <th>4</th>\n",
       "      <td>5.80</td>\n",
       "      <td>5.98</td>\n",
       "      <td>5.64</td>\n",
       "      <td>5.84</td>\n",
       "      <td>12243840.0</td>\n",
       "      <td>64.744066</td>\n",
       "      <td>5.352419</td>\n",
       "      <td>5.283651</td>\n",
       "      <td>5.530187</td>\n",
       "      <td>5.769538</td>\n",
       "      <td>6.739463</td>\n",
       "      <td>1</td>\n",
       "    </tr>\n",
       "    <tr>\n",
       "      <th>...</th>\n",
       "      <td>...</td>\n",
       "      <td>...</td>\n",
       "      <td>...</td>\n",
       "      <td>...</td>\n",
       "      <td>...</td>\n",
       "      <td>...</td>\n",
       "      <td>...</td>\n",
       "      <td>...</td>\n",
       "      <td>...</td>\n",
       "      <td>...</td>\n",
       "      <td>...</td>\n",
       "      <td>...</td>\n",
       "    </tr>\n",
       "    <tr>\n",
       "      <th>5164</th>\n",
       "      <td>103.30</td>\n",
       "      <td>103.50</td>\n",
       "      <td>101.90</td>\n",
       "      <td>103.30</td>\n",
       "      <td>36080875.0</td>\n",
       "      <td>50.812590</td>\n",
       "      <td>102.356870</td>\n",
       "      <td>105.067605</td>\n",
       "      <td>107.191605</td>\n",
       "      <td>108.195521</td>\n",
       "      <td>99.624326</td>\n",
       "      <td>1</td>\n",
       "    </tr>\n",
       "    <tr>\n",
       "      <th>5165</th>\n",
       "      <td>102.00</td>\n",
       "      <td>103.50</td>\n",
       "      <td>101.15</td>\n",
       "      <td>103.20</td>\n",
       "      <td>36641275.0</td>\n",
       "      <td>50.608103</td>\n",
       "      <td>102.437168</td>\n",
       "      <td>105.030623</td>\n",
       "      <td>107.138736</td>\n",
       "      <td>108.145815</td>\n",
       "      <td>99.638600</td>\n",
       "      <td>0</td>\n",
       "    </tr>\n",
       "    <tr>\n",
       "      <th>5166</th>\n",
       "      <td>103.55</td>\n",
       "      <td>103.65</td>\n",
       "      <td>99.80</td>\n",
       "      <td>100.35</td>\n",
       "      <td>41083734.0</td>\n",
       "      <td>45.069673</td>\n",
       "      <td>102.238391</td>\n",
       "      <td>104.937937</td>\n",
       "      <td>107.048819</td>\n",
       "      <td>108.068245</td>\n",
       "      <td>99.641440</td>\n",
       "      <td>1</td>\n",
       "    </tr>\n",
       "    <tr>\n",
       "      <th>5167</th>\n",
       "      <td>100.35</td>\n",
       "      <td>101.20</td>\n",
       "      <td>99.00</td>\n",
       "      <td>100.55</td>\n",
       "      <td>41357469.0</td>\n",
       "      <td>45.517973</td>\n",
       "      <td>102.077591</td>\n",
       "      <td>104.851047</td>\n",
       "      <td>106.962742</td>\n",
       "      <td>107.993436</td>\n",
       "      <td>99.645067</td>\n",
       "      <td>0</td>\n",
       "    </tr>\n",
       "    <tr>\n",
       "      <th>5168</th>\n",
       "      <td>101.10</td>\n",
       "      <td>101.80</td>\n",
       "      <td>98.80</td>\n",
       "      <td>100.10</td>\n",
       "      <td>34668093.0</td>\n",
       "      <td>44.639713</td>\n",
       "      <td>101.889249</td>\n",
       "      <td>104.756967</td>\n",
       "      <td>106.871845</td>\n",
       "      <td>107.914894</td>\n",
       "      <td>99.646883</td>\n",
       "      <td>0</td>\n",
       "    </tr>\n",
       "  </tbody>\n",
       "</table>\n",
       "<p>5169 rows × 12 columns</p>\n",
       "</div>"
      ],
      "text/plain": [
       "        open    high     low   close      volume        RSI      EMA_20  \\\n",
       "0       5.12    5.19    5.05    5.16   2053710.0  49.560493    5.189072   \n",
       "1       5.18    5.43    5.18    5.39   5428420.0  55.576843    5.208208   \n",
       "2       5.48    5.66    5.42    5.61   8511680.0  60.415705    5.246474   \n",
       "3       5.69    5.88    5.69    5.82   6797310.0  64.383464    5.301095   \n",
       "4       5.80    5.98    5.64    5.84  12243840.0  64.744066    5.352419   \n",
       "...      ...     ...     ...     ...         ...        ...         ...   \n",
       "5164  103.30  103.50  101.90  103.30  36080875.0  50.812590  102.356870   \n",
       "5165  102.00  103.50  101.15  103.20  36641275.0  50.608103  102.437168   \n",
       "5166  103.55  103.65   99.80  100.35  41083734.0  45.069673  102.238391   \n",
       "5167  100.35  101.20   99.00  100.55  41357469.0  45.517973  102.077591   \n",
       "5168  101.10  101.80   98.80  100.10  34668093.0  44.639713  101.889249   \n",
       "\n",
       "         EMA_100     EMA_150     EMA_200    EMA_500  trend  \n",
       "0       5.251564    5.522660    5.773724   6.756780      1  \n",
       "1       5.254306    5.520902    5.769906   6.751324      1  \n",
       "2       5.261349    5.522083    5.768315   6.746768      1  \n",
       "3       5.272412    5.526029    5.768829   6.743068      1  \n",
       "4       5.283651    5.530187    5.769538   6.739463      1  \n",
       "...          ...         ...         ...        ...    ...  \n",
       "5164  105.067605  107.191605  108.195521  99.624326      1  \n",
       "5165  105.030623  107.138736  108.145815  99.638600      0  \n",
       "5166  104.937937  107.048819  108.068245  99.641440      1  \n",
       "5167  104.851047  106.962742  107.993436  99.645067      0  \n",
       "5168  104.756967  106.871845  107.914894  99.646883      0  \n",
       "\n",
       "[5169 rows x 12 columns]"
      ]
     },
     "execution_count": 5,
     "metadata": {},
     "output_type": "execute_result"
    }
   ],
   "source": [
    "data"
   ]
  },
  {
   "cell_type": "code",
   "execution_count": 18,
   "metadata": {},
   "outputs": [
    {
     "name": "stdout",
     "output_type": "stream",
     "text": [
      "[[0.00000000e+00 0.00000000e+00 0.00000000e+00 ... 4.73201197e-05\n",
      "  2.00265845e-03 1.00000000e+00]\n",
      " [4.08663670e-04 1.61877782e-03 9.01963505e-04 ... 1.39189759e-05\n",
      "  1.94403777e-03 1.00000000e+00]\n",
      " [2.45198202e-03 3.17010657e-03 2.56712690e-03 ... 0.00000000e+00\n",
      "  1.89508683e-03 1.00000000e+00]\n",
      " ...\n",
      " [6.70412750e-01 6.64103602e-01 6.57392632e-01 ... 8.94918264e-01\n",
      "  9.99941520e-01 1.00000000e+00]\n",
      " [6.48617355e-01 6.47578578e-01 6.51842087e-01 ... 8.94263841e-01\n",
      "  9.99980488e-01 0.00000000e+00]\n",
      " [6.53725650e-01 6.51625523e-01 6.50454451e-01 ... 8.93576760e-01\n",
      "  1.00000000e+00 0.00000000e+00]]\n"
     ]
    }
   ],
   "source": [
    "# Scaling\n",
    "from sklearn.preprocessing import MinMaxScaler\n",
    "sc = MinMaxScaler(feature_range=(0,1))\n",
    "data_set_scaled = sc.fit_transform(data)\n",
    "print(data_set_scaled)"
   ]
  },
  {
   "cell_type": "code",
   "execution_count": 20,
   "metadata": {},
   "outputs": [
    {
     "name": "stdout",
     "output_type": "stream",
     "text": [
      "(5139, 30, 11)\n",
      "(5139, 30, 11)\n",
      "(5139, 1)\n"
     ]
    }
   ],
   "source": [
    "# creating X,Y sets\n",
    "X = []\n",
    "backcandles = 30\n",
    "for j in range(data_set_scaled[0].size-1): # for each col\n",
    "    X.append([])\n",
    "    for i in range(backcandles, data_set_scaled.shape[0]): # for each data set, store curr col value of last 30 (backcandles) days\n",
    "        X[j].append(data_set_scaled[i-backcandles:i, j])\n",
    "\n",
    "#move axis from 0 to position 2\n",
    "X=np.moveaxis(X, [0], [2])\n",
    "print(X.shape)\n",
    "\n",
    "# creating y and converting x to np array\n",
    "X, yi =np.array(X), np.array(data_set_scaled[backcandles:,-1])\n",
    "# rows from 30th position to end cuz, we can't create training set for first 30 days, min 30 day required\n",
    "# -1 because we are predicting trend which is last in cols\n",
    "\n",
    "y=np.reshape(yi,(len(yi),1)) \n",
    "# converting 1d array to 2d ([1,2,3,4]--> [[1],[2],[3],[4]])\n",
    "#  \n",
    "print(X.shape)\n",
    "print(y.shape)"
   ]
  },
  {
   "cell_type": "code",
   "execution_count": 21,
   "metadata": {},
   "outputs": [],
   "source": [
    "# splitting data\n",
    "from sklearn.model_selection import train_test_split\n",
    "# X_train, X_test, y_train, y_test = train_test_split(X,y,test_size=0.2)\n",
    "X_train, X_test, y_train, y_test = train_test_split(X,y,test_size=0.3)"
   ]
  },
  {
   "cell_type": "code",
   "execution_count": 23,
   "metadata": {},
   "outputs": [],
   "source": [
    "# !pip install tensorflow\n",
    "import tensorflow as tf\n",
    "from tensorflow.keras.models import Sequential\n",
    "from tensorflow.keras.layers import LSTM\n",
    "from tensorflow.keras.layers import Dropout\n",
    "from tensorflow.keras.layers import Dense\n",
    "from tensorflow.keras.layers import TimeDistributed\n",
    "\n",
    "from tensorflow.keras import optimizers\n",
    "from tensorflow.keras.callbacks import History\n",
    "from tensorflow.keras.models import Model\n",
    "from tensorflow.keras.layers import Dense, Dropout, LSTM, Input, Activation, concatenate\n",
    "import numpy as np\n",
    "#tf.random.set_seed(20)\n",
    "np.random.seed(10)\n"
   ]
  },
  {
   "cell_type": "code",
   "execution_count": 26,
   "metadata": {},
   "outputs": [
    {
     "name": "stdout",
     "output_type": "stream",
     "text": [
      "113/113 [==============================] - 4s 28ms/step - loss: 0.2498\n"
     ]
    },
    {
     "data": {
      "text/plain": [
       "<keras.callbacks.History at 0x13592396440>"
      ]
     },
     "execution_count": 26,
     "metadata": {},
     "output_type": "execute_result"
    }
   ],
   "source": [
    "model = Sequential()\n",
    "model.add(Input(shape=(backcandles, len(data_set_scaled[0])-1), name='lstm_input'))\n",
    "\n",
    "model.add(LSTM(150, name='first_layer',activation=\"relu\"))\n",
    "model.add(Dense(1, name='dense_layer',activation=\"sigmoid\"))\n",
    "\n",
    "model.compile( loss = 'mean_squared_error',optimizer=optimizers.Adam())\n",
    "model.fit(x=X_train, y=y_train)"
   ]
  },
  {
   "cell_type": "code",
   "execution_count": 34,
   "metadata": {},
   "outputs": [
    {
     "data": {
      "text/plain": [
       "(1542, 30, 11)"
      ]
     },
     "execution_count": 34,
     "metadata": {},
     "output_type": "execute_result"
    }
   ],
   "source": [
    "X_test.shape"
   ]
  },
  {
   "cell_type": "code",
   "execution_count": 127,
   "metadata": {},
   "outputs": [],
   "source": [
    "# lstm_input = Input(shape=(backcandles, len(data_set_scaled[0])), name='lstm_input')\n",
    "\n",
    "# inputs = LSTM(150, name='first_layer',return_sequences=True)(lstm_input)\n",
    "# inputs = LSTM(75, name='second_layer',return_sequences=True)(inputs)\n",
    "# inputs = LSTM(50, name='third_layer',return_sequences=True)(inputs)\n",
    "# inputs = Dense(1, name='dense_layer')(inputs)\n",
    "# output = Activation('linear', name='output')(inputs)\n",
    "# model = Model(inputs=lstm_input, outputs=output)\n",
    "# adam = optimizers.Adam()\n",
    "# # model.compile(optimizer=adam, loss='mse')\n",
    "# model.compile(optimizer=adam, loss='mse')\n",
    "# model.fit(x=X_train, y=y_train, batch_size=1, epochs=20, shuffle=True, validation_split = 0.1)\n",
    "\n",
    "# # add lstm layer"
   ]
  },
  {
   "cell_type": "code",
   "execution_count": 27,
   "metadata": {},
   "outputs": [
    {
     "name": "stdout",
     "output_type": "stream",
     "text": [
      "49/49 [==============================] - 1s 14ms/step\n",
      "113/113 [==============================] - 1s 10ms/step\n"
     ]
    }
   ],
   "source": [
    "y_pred = model.predict(X_test)\n",
    "X_pred = model.predict(X_train)\n",
    "# input size = X,30,12\n",
    "# where, X = number of predictig examples\n",
    "# 30 = look back days which is 30 in our case\n",
    "# 12 = number of featues\n",
    "\n",
    "# so we will be proving all 12 features of previuos 30 days. and each 30 day will be considered as 1 set\n"
   ]
  },
  {
   "cell_type": "code",
   "execution_count": 28,
   "metadata": {},
   "outputs": [
    {
     "data": {
      "text/plain": [
       "(1542, 1)"
      ]
     },
     "execution_count": 28,
     "metadata": {},
     "output_type": "execute_result"
    }
   ],
   "source": [
    "y_pred.shape"
   ]
  },
  {
   "cell_type": "code",
   "execution_count": 29,
   "metadata": {},
   "outputs": [],
   "source": [
    "# y_pred_2 = []\n",
    "# X_pred_2 = []\n",
    "# for i in y_pred:\n",
    "#     y_pred_2.append(i.mean())\n",
    "\n",
    "# for j in X_pred:\n",
    "#     X_pred_2.append(j.mean())"
   ]
  },
  {
   "cell_type": "code",
   "execution_count": 30,
   "metadata": {},
   "outputs": [],
   "source": [
    "def classify(pred):\n",
    "    for i in range(len(pred)):\n",
    "        if pred[i]>=0.5:\n",
    "            pred[i]=1\n",
    "        else:\n",
    "            pred[i]=0\n",
    "# classify(y_pred_2)\n",
    "# classify(X_pred_2)\n",
    "classify(y_pred)\n",
    "classify(X_pred)"
   ]
  },
  {
   "cell_type": "code",
   "execution_count": 31,
   "metadata": {},
   "outputs": [
    {
     "name": "stdout",
     "output_type": "stream",
     "text": [
      "on training data -  0.53628023352794\n",
      "on test data -  0.5428015564202334\n"
     ]
    }
   ],
   "source": [
    "from sklearn.metrics import accuracy_score\n",
    "print(\"on training data - \",accuracy_score(X_pred,y_train))\n",
    "print(\"on test data - \",accuracy_score(y_pred,y_test))\n",
    "# increasing number of layers did increased the accurarcy to 0.54"
   ]
  },
  {
   "cell_type": "code",
   "execution_count": 33,
   "metadata": {},
   "outputs": [
    {
     "name": "stdout",
     "output_type": "stream",
     "text": [
      "INFO:tensorflow:Assets written to: ../models/lstm_trend_1.0\\assets\n"
     ]
    }
   ],
   "source": [
    "model.save('../models/lstm_trend_1.0')"
   ]
  }
 ],
 "metadata": {
  "kernelspec": {
   "display_name": "Python 3.10.2 64-bit",
   "language": "python",
   "name": "python3"
  },
  "language_info": {
   "codemirror_mode": {
    "name": "ipython",
    "version": 3
   },
   "file_extension": ".py",
   "mimetype": "text/x-python",
   "name": "python",
   "nbconvert_exporter": "python",
   "pygments_lexer": "ipython3",
   "version": "3.10.2"
  },
  "orig_nbformat": 4,
  "vscode": {
   "interpreter": {
    "hash": "26de051ba29f2982a8de78e945f0abaf191376122a1563185a90213a26c5da77"
   }
  }
 },
 "nbformat": 4,
 "nbformat_minor": 2
}
